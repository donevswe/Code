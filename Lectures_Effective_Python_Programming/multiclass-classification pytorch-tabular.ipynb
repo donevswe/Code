{
 "cells": [
  {
   "cell_type": "markdown",
   "id": "077907bb",
   "metadata": {},
   "source": [
    "#### Source: https://towardsdatascience.com/pytorch-tabular-multiclass-classification-9f8211a123ab"
   ]
  },
  {
   "cell_type": "code",
   "execution_count": 1,
   "id": "758cd2ca",
   "metadata": {},
   "outputs": [],
   "source": [
    "import numpy as np\n",
    "import pandas as pd\n",
    "import seaborn as sns\n",
    "from tqdm.notebook import tqdm\n",
    "import matplotlib.pyplot as plt\n",
    "\n",
    "import torch\n",
    "import torch.nn as nn\n",
    "import torch.optim as optim\n",
    "from torch.utils.data import Dataset, DataLoader, WeightedRandomSampler\n",
    "\n",
    "from sklearn.preprocessing import MinMaxScaler    \n",
    "from sklearn.model_selection import train_test_split\n",
    "from sklearn.metrics import confusion_matrix, classification_report"
   ]
  },
  {
   "cell_type": "code",
   "execution_count": 6,
   "id": "a1741146",
   "metadata": {},
   "outputs": [
    {
     "data": {
      "text/html": [
       "<div>\n",
       "<style scoped>\n",
       "    .dataframe tbody tr th:only-of-type {\n",
       "        vertical-align: middle;\n",
       "    }\n",
       "\n",
       "    .dataframe tbody tr th {\n",
       "        vertical-align: top;\n",
       "    }\n",
       "\n",
       "    .dataframe thead th {\n",
       "        text-align: right;\n",
       "    }\n",
       "</style>\n",
       "<table border=\"1\" class=\"dataframe\">\n",
       "  <thead>\n",
       "    <tr style=\"text-align: right;\">\n",
       "      <th></th>\n",
       "      <th>fixed acidity</th>\n",
       "      <th>volatile acidity</th>\n",
       "      <th>citric acid</th>\n",
       "      <th>residual sugar</th>\n",
       "      <th>chlorides</th>\n",
       "      <th>free sulfur dioxide</th>\n",
       "      <th>total sulfur dioxide</th>\n",
       "      <th>density</th>\n",
       "      <th>pH</th>\n",
       "      <th>sulphates</th>\n",
       "      <th>alcohol</th>\n",
       "      <th>quality</th>\n",
       "    </tr>\n",
       "  </thead>\n",
       "  <tbody>\n",
       "    <tr>\n",
       "      <th>0</th>\n",
       "      <td>7.4</td>\n",
       "      <td>0.70</td>\n",
       "      <td>0.00</td>\n",
       "      <td>1.9</td>\n",
       "      <td>0.076</td>\n",
       "      <td>11.0</td>\n",
       "      <td>34.0</td>\n",
       "      <td>0.9978</td>\n",
       "      <td>3.51</td>\n",
       "      <td>0.56</td>\n",
       "      <td>9.4</td>\n",
       "      <td>5</td>\n",
       "    </tr>\n",
       "    <tr>\n",
       "      <th>1</th>\n",
       "      <td>7.8</td>\n",
       "      <td>0.88</td>\n",
       "      <td>0.00</td>\n",
       "      <td>2.6</td>\n",
       "      <td>0.098</td>\n",
       "      <td>25.0</td>\n",
       "      <td>67.0</td>\n",
       "      <td>0.9968</td>\n",
       "      <td>3.20</td>\n",
       "      <td>0.68</td>\n",
       "      <td>9.8</td>\n",
       "      <td>5</td>\n",
       "    </tr>\n",
       "    <tr>\n",
       "      <th>2</th>\n",
       "      <td>7.8</td>\n",
       "      <td>0.76</td>\n",
       "      <td>0.04</td>\n",
       "      <td>2.3</td>\n",
       "      <td>0.092</td>\n",
       "      <td>15.0</td>\n",
       "      <td>54.0</td>\n",
       "      <td>0.9970</td>\n",
       "      <td>3.26</td>\n",
       "      <td>0.65</td>\n",
       "      <td>9.8</td>\n",
       "      <td>5</td>\n",
       "    </tr>\n",
       "    <tr>\n",
       "      <th>3</th>\n",
       "      <td>11.2</td>\n",
       "      <td>0.28</td>\n",
       "      <td>0.56</td>\n",
       "      <td>1.9</td>\n",
       "      <td>0.075</td>\n",
       "      <td>17.0</td>\n",
       "      <td>60.0</td>\n",
       "      <td>0.9980</td>\n",
       "      <td>3.16</td>\n",
       "      <td>0.58</td>\n",
       "      <td>9.8</td>\n",
       "      <td>6</td>\n",
       "    </tr>\n",
       "    <tr>\n",
       "      <th>4</th>\n",
       "      <td>7.4</td>\n",
       "      <td>0.70</td>\n",
       "      <td>0.00</td>\n",
       "      <td>1.9</td>\n",
       "      <td>0.076</td>\n",
       "      <td>11.0</td>\n",
       "      <td>34.0</td>\n",
       "      <td>0.9978</td>\n",
       "      <td>3.51</td>\n",
       "      <td>0.56</td>\n",
       "      <td>9.4</td>\n",
       "      <td>5</td>\n",
       "    </tr>\n",
       "  </tbody>\n",
       "</table>\n",
       "</div>"
      ],
      "text/plain": [
       "   fixed acidity  volatile acidity  citric acid  residual sugar  chlorides  \\\n",
       "0            7.4              0.70         0.00             1.9      0.076   \n",
       "1            7.8              0.88         0.00             2.6      0.098   \n",
       "2            7.8              0.76         0.04             2.3      0.092   \n",
       "3           11.2              0.28         0.56             1.9      0.075   \n",
       "4            7.4              0.70         0.00             1.9      0.076   \n",
       "\n",
       "   free sulfur dioxide  total sulfur dioxide  density    pH  sulphates  \\\n",
       "0                 11.0                  34.0   0.9978  3.51       0.56   \n",
       "1                 25.0                  67.0   0.9968  3.20       0.68   \n",
       "2                 15.0                  54.0   0.9970  3.26       0.65   \n",
       "3                 17.0                  60.0   0.9980  3.16       0.58   \n",
       "4                 11.0                  34.0   0.9978  3.51       0.56   \n",
       "\n",
       "   alcohol  quality  \n",
       "0      9.4        5  \n",
       "1      9.8        5  \n",
       "2      9.8        5  \n",
       "3      9.8        6  \n",
       "4      9.4        5  "
      ]
     },
     "execution_count": 6,
     "metadata": {},
     "output_type": "execute_result"
    }
   ],
   "source": [
    "df = pd.read_csv(\"data/winequality-red.csv\", sep=';')\n",
    "df.head()"
   ]
  },
  {
   "cell_type": "code",
   "execution_count": 7,
   "id": "eebe767e",
   "metadata": {},
   "outputs": [
    {
     "data": {
      "text/plain": [
       "<AxesSubplot:xlabel='quality', ylabel='count'>"
      ]
     },
     "execution_count": 7,
     "metadata": {},
     "output_type": "execute_result"
    },
    {
     "data": {
      "image/png": "[encoded data removed]",
      "text/plain": [
       "<Figure size 432x288 with 1 Axes>"
      ]
     },
     "metadata": {
      "needs_background": "light"
     },
     "output_type": "display_data"
    }
   ],
   "source": [
    "sns.countplot(x = 'quality', data=df)"
   ]
  },
  {
   "cell_type": "code",
   "execution_count": 8,
   "id": "4e7f6192",
   "metadata": {},
   "outputs": [],
   "source": [
    "class2idx = {\n",
    "    3:0,\n",
    "    4:1,\n",
    "    5:2,\n",
    "    6:3,\n",
    "    7:4,\n",
    "    8:5\n",
    "}\n",
    "\n",
    "idx2class = {v: k for k, v in class2idx.items()}\n",
    "\n",
    "df['quality'].replace(class2idx, inplace=True)"
   ]
  },
  {
   "cell_type": "code",
   "execution_count": 9,
   "id": "fff7c431",
   "metadata": {},
   "outputs": [],
   "source": [
    "X = df.iloc[:, 0:-1]\n",
    "y = df.iloc[:, -1]"
   ]
  },
  {
   "cell_type": "code",
   "execution_count": 10,
   "id": "2de60348",
   "metadata": {},
   "outputs": [],
   "source": [
    "# Split into train+val and test\n",
    "X_trainval, X_test, y_trainval, y_test = train_test_split(X, y, test_size=0.2, stratify=y, random_state=69)\n",
    "\n",
    "# Split train into train-val\n",
    "X_train, X_val, y_train, y_val = train_test_split(X_trainval, y_trainval, test_size=0.1, stratify=y_trainval, random_state=21)"
   ]
  },
  {
   "cell_type": "code",
   "execution_count": 12,
   "id": "718f3b32",
   "metadata": {},
   "outputs": [],
   "source": [
    "scaler = MinMaxScaler()\n",
    "X_train = scaler.fit_transform(X_train)\n",
    "X_val = scaler.transform(X_val)\n",
    "X_test = scaler.transform(X_test)\n",
    "\n",
    "X_train, y_train = np.array(X_train), np.array(y_train)\n",
    "X_val, y_val = np.array(X_val), np.array(y_val)\n",
    "X_test, y_test = np.array(X_test), np.array(y_test)"
   ]
  },
  {
   "cell_type": "code",
   "execution_count": 13,
   "id": "458caa5e",
   "metadata": {},
   "outputs": [],
   "source": [
    "def get_class_distribution(obj):\n",
    "    count_dict = {\n",
    "        \"rating_3\": 0,\n",
    "        \"rating_4\": 0,\n",
    "        \"rating_5\": 0,\n",
    "        \"rating_6\": 0,\n",
    "        \"rating_7\": 0,\n",
    "        \"rating_8\": 0,\n",
    "    }\n",
    "    \n",
    "    for i in obj:\n",
    "        if i == 0: \n",
    "            count_dict['rating_3'] += 1\n",
    "        elif i == 1: \n",
    "            count_dict['rating_4'] += 1\n",
    "        elif i == 2: \n",
    "            count_dict['rating_5'] += 1\n",
    "        elif i == 3: \n",
    "            count_dict['rating_6'] += 1\n",
    "        elif i == 4: \n",
    "            count_dict['rating_7'] += 1  \n",
    "        elif i == 5: \n",
    "            count_dict['rating_8'] += 1              \n",
    "        else:\n",
    "            print(\"Check classes.\")\n",
    "            \n",
    "    return count_dict"
   ]
  },
  {
   "cell_type": "code",
   "execution_count": 14,
   "id": "3a868695",
   "metadata": {},
   "outputs": [
    {
     "data": {
      "text/plain": [
       "Text(0.5, 1.0, 'Class Distribution in Test Set')"
      ]
     },
     "execution_count": 14,
     "metadata": {},
     "output_type": "execute_result"
    },
    {
     "data": {
      "image/png": "[encoded data removed]",
      "text/plain": [
       "<Figure size 1800x504 with 3 Axes>"
      ]
     },
     "metadata": {
      "needs_background": "light"
     },
     "output_type": "display_data"
    }
   ],
   "source": [
    "fig, axes = plt.subplots(nrows=1, ncols=3, figsize=(25,7))# Train\n",
    "sns.barplot(data = pd.DataFrame.from_dict([get_class_distribution(y_train)]).melt(),\n",
    "            x = \"variable\", y=\"value\", hue=\"variable\", \n",
    "            ax=axes[0]).set_title('Class Distribution in Train Set')# Validation\n",
    "\n",
    "\n",
    "sns.barplot(data = pd.DataFrame.from_dict([get_class_distribution(y_val)]).melt(),\n",
    "            x = \"variable\", y=\"value\", hue=\"variable\", \n",
    "            ax=axes[1]).set_title('Class Distribution in Val Set')# Test\n",
    "\n",
    "\n",
    "sns.barplot(data = pd.DataFrame.from_dict([get_class_distribution(y_test)]).melt(), \n",
    "            x = \"variable\", y=\"value\", hue=\"variable\",\n",
    "            ax=axes[2]).set_title('Class Distribution in Test Set')"
   ]
  },
  {
   "cell_type": "code",
   "execution_count": 15,
   "id": "793c0bc0",
   "metadata": {},
   "outputs": [],
   "source": [
    "class ClassifierDataset(Dataset):\n",
    "    \n",
    "    def __init__(self, X_data, y_data):\n",
    "        self.X_data = X_data\n",
    "        self.y_data = y_data\n",
    "        \n",
    "    def __getitem__(self, index):\n",
    "        return self.X_data[index], self.y_data[index]\n",
    "        \n",
    "    def __len__ (self):\n",
    "        return len(self.X_data)\n",
    "\n",
    "\n",
    "train_dataset = ClassifierDataset(torch.from_numpy(X_train).float(),\n",
    "                                  torch.from_numpy(y_train).long())\n",
    "\n",
    "val_dataset = ClassifierDataset(torch.from_numpy(X_val).float(), \n",
    "                                torch.from_numpy(y_val).long())\n",
    "\n",
    "test_dataset = ClassifierDataset(torch.from_numpy(X_test).float(), \n",
    "                                 torch.from_numpy(y_test).long())"
   ]
  },
  {
   "cell_type": "code",
   "execution_count": 17,
   "id": "9baa3275",
   "metadata": {},
   "outputs": [],
   "source": [
    "target_list = []\n",
    "\n",
    "for _, t in train_dataset:\n",
    "    target_list.append(t)\n",
    "    \n",
    "target_list = torch.tensor(target_list)"
   ]
  },
  {
   "cell_type": "code",
   "execution_count": 19,
   "id": "f03d4d44",
   "metadata": {},
   "outputs": [
    {
     "name": "stdout",
     "output_type": "stream",
     "text": [
      "tensor([0.1429, 0.0263, 0.0020, 0.0022, 0.0070, 0.0714])\n"
     ]
    }
   ],
   "source": [
    "class_count = [i for i in get_class_distribution(y_train).values()]\n",
    "class_weights = 1./torch.tensor(class_count, dtype=torch.float)\n",
    "print(class_weights)"
   ]
  },
  {
   "cell_type": "code",
   "execution_count": 34,
   "id": "5b4aeb91",
   "metadata": {},
   "outputs": [
    {
     "data": {
      "text/plain": [
       "tensor([4, 3, 2, 3, 4, 3, 1, 4, 3, 3, 4, 3, 3, 3, 2, 2, 4, 2, 3, 3])"
      ]
     },
     "execution_count": 34,
     "metadata": {},
     "output_type": "execute_result"
    }
   ],
   "source": [
    "target_list[:20]"
   ]
  },
  {
   "cell_type": "code",
   "execution_count": 23,
   "id": "25a7ce0c",
   "metadata": {},
   "outputs": [],
   "source": [
    "class_weights_all = class_weights[target_list]"
   ]
  },
  {
   "cell_type": "code",
   "execution_count": 24,
   "id": "76b3f410",
   "metadata": {},
   "outputs": [],
   "source": [
    "weighted_sampler = WeightedRandomSampler(\n",
    "    weights=class_weights_all,\n",
    "    num_samples=len(class_weights_all),\n",
    "    replacement=True\n",
    ")"
   ]
  },
  {
   "cell_type": "code",
   "execution_count": 26,
   "id": "9acab83e",
   "metadata": {},
   "outputs": [],
   "source": [
    "EPOCHS = 300\n",
    "BATCH_SIZE = 16\n",
    "LEARNING_RATE = 0.0007\n",
    "NUM_FEATURES = len(X.columns)\n",
    "NUM_CLASSES = 6"
   ]
  },
  {
   "cell_type": "code",
   "execution_count": 27,
   "id": "ea7265c3",
   "metadata": {},
   "outputs": [],
   "source": [
    "train_loader = DataLoader(dataset=train_dataset,\n",
    "                          batch_size=BATCH_SIZE,\n",
    "                          sampler=weighted_sampler)\n",
    "\n",
    "\n",
    "val_loader = DataLoader(dataset=val_dataset, batch_size=1)\n",
    "\n",
    "\n",
    "test_loader = DataLoader(dataset=test_dataset, batch_size=1)"
   ]
  },
  {
   "cell_type": "code",
   "execution_count": 28,
   "id": "e5103d1f",
   "metadata": {},
   "outputs": [],
   "source": [
    "class MulticlassClassification(nn.Module):\n",
    "    def __init__(self, num_feature, num_class):\n",
    "        super(MulticlassClassification, self).__init__()\n",
    "        \n",
    "        self.layer_1 = nn.Linear(num_feature, 512)\n",
    "        self.layer_2 = nn.Linear(512, 128)\n",
    "        self.layer_3 = nn.Linear(128, 64)\n",
    "        self.layer_out = nn.Linear(64, num_class) \n",
    "        \n",
    "        self.relu = nn.ReLU()\n",
    "        self.dropout = nn.Dropout(p=0.2)\n",
    "        self.batchnorm1 = nn.BatchNorm1d(512)\n",
    "        self.batchnorm2 = nn.BatchNorm1d(128)\n",
    "        self.batchnorm3 = nn.BatchNorm1d(64)\n",
    "        \n",
    "    def forward(self, x):\n",
    "        x = self.layer_1(x)\n",
    "        x = self.batchnorm1(x)\n",
    "        x = self.relu(x)\n",
    "        \n",
    "        x = self.layer_2(x)\n",
    "        x = self.batchnorm2(x)\n",
    "        x = self.relu(x)\n",
    "        x = self.dropout(x)\n",
    "        \n",
    "        x = self.layer_3(x)\n",
    "        x = self.batchnorm3(x)\n",
    "        x = self.relu(x)\n",
    "        x = self.dropout(x)\n",
    "        \n",
    "        x = self.layer_out(x)\n",
    "        \n",
    "        return x"
   ]
  },
  {
   "cell_type": "code",
   "execution_count": 30,
   "id": "c9408e24",
   "metadata": {},
   "outputs": [
    {
     "name": "stdout",
     "output_type": "stream",
     "text": [
      "cpu\n"
     ]
    }
   ],
   "source": [
    "device = torch.device(\"cuda:0\" if torch.cuda.is_available() else \"cpu\")\n",
    "print(device)"
   ]
  },
  {
   "cell_type": "code",
   "execution_count": 32,
   "id": "5c16422e",
   "metadata": {},
   "outputs": [
    {
     "name": "stdout",
     "output_type": "stream",
     "text": [
      "MulticlassClassification(\n",
      "  (layer_1): Linear(in_features=11, out_features=512, bias=True)\n",
      "  (layer_2): Linear(in_features=512, out_features=128, bias=True)\n",
      "  (layer_3): Linear(in_features=128, out_features=64, bias=True)\n",
      "  (layer_out): Linear(in_features=64, out_features=6, bias=True)\n",
      "  (relu): ReLU()\n",
      "  (dropout): Dropout(p=0.2, inplace=False)\n",
      "  (batchnorm1): BatchNorm1d(512, eps=1e-05, momentum=0.1, affine=True, track_running_stats=True)\n",
      "  (batchnorm2): BatchNorm1d(128, eps=1e-05, momentum=0.1, affine=True, track_running_stats=True)\n",
      "  (batchnorm3): BatchNorm1d(64, eps=1e-05, momentum=0.1, affine=True, track_running_stats=True)\n",
      ")\n"
     ]
    }
   ],
   "source": [
    "model = MulticlassClassification(num_feature = NUM_FEATURES, num_class=NUM_CLASSES)\n",
    "\n",
    "model.to(device)\n",
    "\n",
    "criterion = nn.CrossEntropyLoss(weight=class_weights.to(device))\n",
    "\n",
    "optimizer = optim.Adam(model.parameters(), lr=LEARNING_RATE)\n",
    "\n",
    "print(model)"
   ]
  },
  {
   "cell_type": "code",
   "execution_count": 38,
   "id": "7848f0bd",
   "metadata": {},
   "outputs": [],
   "source": [
    "def multi_acc(y_pred, y_test):\n",
    "    y_pred_softmax = torch.log_softmax(y_pred, dim = 1)\n",
    "    _, y_pred_tags = torch.max(y_pred_softmax, dim = 1)    \n",
    "    \n",
    "    correct_pred = (y_pred_tags == y_test).float()\n",
    "    acc = correct_pred.sum() / len(correct_pred)\n",
    "    \n",
    "    acc = torch.round(acc * 100)\n",
    "    \n",
    "    return acc\n",
    "\n",
    "\n",
    "\n",
    "accuracy_stats = {\n",
    "    'train': [],\n",
    "    \"val\": []\n",
    "}\n",
    "\n",
    "loss_stats = {\n",
    "    'train': [],\n",
    "    \"val\": []\n",
    "}"
   ]
  },
  {
   "cell_type": "code",
   "execution_count": null,
   "id": "cfc59b0d",
   "metadata": {},
   "outputs": [],
   "source": [
    "print(\"Begin training.\")for e in tqdm(range(1, EPOCHS+1)):\n",
    "    \n",
    "    # TRAINING\n",
    "    train_epoch_loss = 0\n",
    "    train_epoch_acc = 0\n",
    "    \n",
    "model.train()\n",
    "    for X_train_batch, y_train_batch in train_loader:\n",
    "        X_train_batch, y_train_batch = X_train_batch.to(device), y_train_batch.to(device)\n",
    "        \n",
    "        optimizer.zero_grad()\n",
    "        \n",
    "        y_train_pred = model(X_train_batch)\n",
    "        \n",
    "        train_loss = criterion(y_train_pred, y_train_batch)\n",
    "        train_acc = multi_acc(y_train_pred, y_train_batch)\n",
    "        \n",
    "        train_loss.backward()\n",
    "        optimizer.step()\n",
    "        \n",
    "        train_epoch_loss += train_loss.item()\n",
    "        train_epoch_acc += train_acc.item()"
   ]
  },
  {
   "cell_type": "code",
   "execution_count": null,
   "id": "e9e95f5c",
   "metadata": {},
   "outputs": [],
   "source": []
  },
  {
   "cell_type": "code",
   "execution_count": 44,
   "id": "28e2166b",
   "metadata": {},
   "outputs": [
    {
     "name": "stdout",
     "output_type": "stream",
     "text": [
      "Begin training.\n"
     ]
    },
    {
     "data": {
      "application/vnd.jupyter.widget-view+json": {
       "model_id": "366eb48a96594f7abc4eb8db7fd6550d",
       "version_major": 2,
       "version_minor": 0
      },
      "text/plain": [
       "  0%|          | 0/300 [00:00<?, ?it/s]"
      ]
     },
     "metadata": {},
     "output_type": "display_data"
    },
    {
     "name": "stdout",
     "output_type": "stream",
     "text": [
      "Epoch 001: | Train Loss: 0.81317 | Val Loss: 2.22607 | Train Acc: 39.389| Val Acc: 3.906\n",
      "Epoch 002: | Train Loss: 0.46826 | Val Loss: 2.41633 | Train Acc: 42.083| Val Acc: 3.125\n",
      "Epoch 003: | Train Loss: 0.33403 | Val Loss: 2.54364 | Train Acc: 48.319| Val Acc: 3.125\n",
      "Epoch 004: | Train Loss: 0.29915 | Val Loss: 2.62060 | Train Acc: 47.583| Val Acc: 3.906\n",
      "Epoch 005: | Train Loss: 0.30918 | Val Loss: 2.57096 | Train Acc: 47.917| Val Acc: 3.125\n",
      "Epoch 006: | Train Loss: 0.27851 | Val Loss: 2.52659 | Train Acc: 49.625| Val Acc: 4.688\n",
      "Epoch 007: | Train Loss: 0.24149 | Val Loss: 2.36095 | Train Acc: 50.625| Val Acc: 4.688\n",
      "Epoch 008: | Train Loss: 0.27340 | Val Loss: 2.44945 | Train Acc: 50.806| Val Acc: 3.906\n",
      "Epoch 009: | Train Loss: 0.25991 | Val Loss: 2.52260 | Train Acc: 51.694| Val Acc: 5.469\n",
      "Epoch 010: | Train Loss: 0.22650 | Val Loss: 2.58869 | Train Acc: 52.806| Val Acc: 7.031\n",
      "Epoch 011: | Train Loss: 0.22145 | Val Loss: 2.35360 | Train Acc: 55.389| Val Acc: 10.156\n",
      "Epoch 012: | Train Loss: 0.20777 | Val Loss: 2.47554 | Train Acc: 54.889| Val Acc: 10.938\n",
      "Epoch 013: | Train Loss: 0.23231 | Val Loss: 2.30764 | Train Acc: 52.903| Val Acc: 10.938\n",
      "Epoch 014: | Train Loss: 0.19577 | Val Loss: 2.52099 | Train Acc: 55.556| Val Acc: 7.812\n",
      "Epoch 015: | Train Loss: 0.16715 | Val Loss: 2.28372 | Train Acc: 58.903| Val Acc: 13.281\n",
      "Epoch 016: | Train Loss: 0.22589 | Val Loss: 2.18068 | Train Acc: 54.708| Val Acc: 14.062\n",
      "Epoch 017: | Train Loss: 0.16804 | Val Loss: 2.07997 | Train Acc: 59.361| Val Acc: 14.062\n",
      "Epoch 018: | Train Loss: 0.17135 | Val Loss: 2.27915 | Train Acc: 59.778| Val Acc: 13.281\n",
      "Epoch 019: | Train Loss: 0.16836 | Val Loss: 2.14985 | Train Acc: 59.944| Val Acc: 15.625\n",
      "Epoch 020: | Train Loss: 0.20818 | Val Loss: 2.21267 | Train Acc: 59.889| Val Acc: 13.281\n",
      "Epoch 021: | Train Loss: 0.19147 | Val Loss: 2.08707 | Train Acc: 57.764| Val Acc: 14.844\n",
      "Epoch 022: | Train Loss: 0.15458 | Val Loss: 2.16731 | Train Acc: 64.028| Val Acc: 14.844\n",
      "Epoch 023: | Train Loss: 0.17452 | Val Loss: 2.23493 | Train Acc: 62.083| Val Acc: 15.625\n",
      "Epoch 024: | Train Loss: 0.16541 | Val Loss: 2.05342 | Train Acc: 62.708| Val Acc: 18.750\n",
      "Epoch 025: | Train Loss: 0.14862 | Val Loss: 2.16833 | Train Acc: 63.806| Val Acc: 14.844\n",
      "Epoch 026: | Train Loss: 0.16556 | Val Loss: 2.02782 | Train Acc: 63.139| Val Acc: 17.188\n",
      "Epoch 027: | Train Loss: 0.16206 | Val Loss: 2.00939 | Train Acc: 64.264| Val Acc: 18.750\n",
      "Epoch 028: | Train Loss: 0.16455 | Val Loss: 1.91714 | Train Acc: 64.389| Val Acc: 21.875\n",
      "Epoch 029: | Train Loss: 0.17807 | Val Loss: 2.05258 | Train Acc: 61.486| Val Acc: 18.750\n",
      "Epoch 030: | Train Loss: 0.15427 | Val Loss: 1.88581 | Train Acc: 63.278| Val Acc: 21.875\n",
      "Epoch 031: | Train Loss: 0.13902 | Val Loss: 2.06953 | Train Acc: 63.694| Val Acc: 14.844\n",
      "Epoch 032: | Train Loss: 0.13599 | Val Loss: 1.92305 | Train Acc: 65.375| Val Acc: 21.875\n",
      "Epoch 033: | Train Loss: 0.11333 | Val Loss: 1.87074 | Train Acc: 66.139| Val Acc: 23.438\n",
      "Epoch 034: | Train Loss: 0.15830 | Val Loss: 1.75540 | Train Acc: 65.319| Val Acc: 27.344\n",
      "Epoch 035: | Train Loss: 0.13226 | Val Loss: 1.77087 | Train Acc: 67.292| Val Acc: 29.688\n",
      "Epoch 036: | Train Loss: 0.10951 | Val Loss: 1.88041 | Train Acc: 65.097| Val Acc: 23.438\n",
      "Epoch 037: | Train Loss: 0.12424 | Val Loss: 1.84164 | Train Acc: 66.000| Val Acc: 28.906\n",
      "Epoch 038: | Train Loss: 0.12584 | Val Loss: 1.82900 | Train Acc: 65.986| Val Acc: 23.438\n",
      "Epoch 039: | Train Loss: 0.14584 | Val Loss: 1.85269 | Train Acc: 65.069| Val Acc: 27.344\n",
      "Epoch 040: | Train Loss: 0.12666 | Val Loss: 1.90937 | Train Acc: 66.792| Val Acc: 23.438\n",
      "Epoch 041: | Train Loss: 0.11130 | Val Loss: 1.87714 | Train Acc: 66.389| Val Acc: 28.906\n",
      "Epoch 042: | Train Loss: 0.13236 | Val Loss: 1.72217 | Train Acc: 67.583| Val Acc: 32.812\n",
      "Epoch 043: | Train Loss: 0.11219 | Val Loss: 1.67371 | Train Acc: 67.403| Val Acc: 28.906\n",
      "Epoch 044: | Train Loss: 0.11362 | Val Loss: 1.72816 | Train Acc: 66.750| Val Acc: 26.562\n",
      "Epoch 045: | Train Loss: 0.10834 | Val Loss: 1.79508 | Train Acc: 68.361| Val Acc: 31.250\n",
      "Epoch 046: | Train Loss: 0.12564 | Val Loss: 1.70869 | Train Acc: 67.569| Val Acc: 33.594\n",
      "Epoch 047: | Train Loss: 0.13600 | Val Loss: 2.00287 | Train Acc: 64.903| Val Acc: 24.219\n",
      "Epoch 048: | Train Loss: 0.11989 | Val Loss: 1.79628 | Train Acc: 67.681| Val Acc: 26.562\n",
      "Epoch 049: | Train Loss: 0.11089 | Val Loss: 2.03683 | Train Acc: 70.278| Val Acc: 26.562\n",
      "Epoch 050: | Train Loss: 0.13791 | Val Loss: 1.82248 | Train Acc: 68.972| Val Acc: 33.594\n",
      "Epoch 051: | Train Loss: 0.12237 | Val Loss: 1.92412 | Train Acc: 68.264| Val Acc: 27.344\n",
      "Epoch 052: | Train Loss: 0.13942 | Val Loss: 1.92351 | Train Acc: 67.306| Val Acc: 28.125\n",
      "Epoch 053: | Train Loss: 0.10299 | Val Loss: 1.81470 | Train Acc: 69.917| Val Acc: 29.688\n",
      "Epoch 054: | Train Loss: 0.12283 | Val Loss: 2.06292 | Train Acc: 66.708| Val Acc: 23.438\n",
      "Epoch 055: | Train Loss: 0.12401 | Val Loss: 1.87917 | Train Acc: 68.986| Val Acc: 31.250\n",
      "Epoch 056: | Train Loss: 0.10031 | Val Loss: 1.80211 | Train Acc: 69.611| Val Acc: 29.688\n",
      "Epoch 057: | Train Loss: 0.10165 | Val Loss: 1.60818 | Train Acc: 72.778| Val Acc: 34.375\n",
      "Epoch 058: | Train Loss: 0.10703 | Val Loss: 1.72955 | Train Acc: 69.583| Val Acc: 32.031\n",
      "Epoch 059: | Train Loss: 0.10242 | Val Loss: 1.76001 | Train Acc: 68.319| Val Acc: 30.469\n",
      "Epoch 060: | Train Loss: 0.08629 | Val Loss: 1.67900 | Train Acc: 71.917| Val Acc: 32.031\n",
      "Epoch 061: | Train Loss: 0.11376 | Val Loss: 1.81453 | Train Acc: 68.056| Val Acc: 27.344\n",
      "Epoch 062: | Train Loss: 0.10632 | Val Loss: 1.99905 | Train Acc: 70.208| Val Acc: 25.781\n",
      "Epoch 063: | Train Loss: 0.12732 | Val Loss: 1.71802 | Train Acc: 68.111| Val Acc: 28.906\n",
      "Epoch 064: | Train Loss: 0.10128 | Val Loss: 1.71333 | Train Acc: 69.569| Val Acc: 35.938\n",
      "Epoch 065: | Train Loss: 0.10734 | Val Loss: 1.74064 | Train Acc: 69.569| Val Acc: 35.938\n",
      "Epoch 066: | Train Loss: 0.12713 | Val Loss: 1.84675 | Train Acc: 70.639| Val Acc: 28.906\n",
      "Epoch 067: | Train Loss: 0.13531 | Val Loss: 1.91043 | Train Acc: 67.333| Val Acc: 32.031\n",
      "Epoch 068: | Train Loss: 0.08629 | Val Loss: 1.80377 | Train Acc: 72.833| Val Acc: 28.125\n",
      "Epoch 069: | Train Loss: 0.09838 | Val Loss: 1.60027 | Train Acc: 69.236| Val Acc: 33.594\n",
      "Epoch 070: | Train Loss: 0.09728 | Val Loss: 1.75135 | Train Acc: 69.056| Val Acc: 28.906\n",
      "Epoch 071: | Train Loss: 0.08467 | Val Loss: 1.66291 | Train Acc: 70.028| Val Acc: 36.719\n",
      "Epoch 072: | Train Loss: 0.10857 | Val Loss: 1.67333 | Train Acc: 70.000| Val Acc: 35.156\n",
      "Epoch 073: | Train Loss: 0.12411 | Val Loss: 1.68516 | Train Acc: 70.000| Val Acc: 29.688\n",
      "Epoch 074: | Train Loss: 0.10878 | Val Loss: 1.76253 | Train Acc: 70.208| Val Acc: 33.594\n",
      "Epoch 075: | Train Loss: 0.08520 | Val Loss: 1.59255 | Train Acc: 73.389| Val Acc: 38.281\n",
      "Epoch 076: | Train Loss: 0.08582 | Val Loss: 1.67396 | Train Acc: 73.653| Val Acc: 32.812\n",
      "Epoch 077: | Train Loss: 0.08867 | Val Loss: 1.73176 | Train Acc: 70.792| Val Acc: 38.281\n",
      "Epoch 078: | Train Loss: 0.11337 | Val Loss: 1.69431 | Train Acc: 69.097| Val Acc: 32.031\n",
      "Epoch 079: | Train Loss: 0.09089 | Val Loss: 1.72712 | Train Acc: 70.278| Val Acc: 32.812\n",
      "Epoch 080: | Train Loss: 0.07271 | Val Loss: 1.69243 | Train Acc: 74.764| Val Acc: 32.812\n",
      "Epoch 081: | Train Loss: 0.08217 | Val Loss: 1.79884 | Train Acc: 71.083| Val Acc: 34.375\n",
      "Epoch 082: | Train Loss: 0.08878 | Val Loss: 1.62943 | Train Acc: 71.514| Val Acc: 39.844\n",
      "Epoch 083: | Train Loss: 0.14021 | Val Loss: 1.51074 | Train Acc: 70.958| Val Acc: 39.062\n",
      "Epoch 084: | Train Loss: 0.08162 | Val Loss: 1.76137 | Train Acc: 74.097| Val Acc: 31.250\n",
      "Epoch 085: | Train Loss: 0.10337 | Val Loss: 1.79170 | Train Acc: 71.097| Val Acc: 25.781\n",
      "Epoch 086: | Train Loss: 0.09123 | Val Loss: 1.56889 | Train Acc: 71.583| Val Acc: 39.062\n",
      "Epoch 087: | Train Loss: 0.09235 | Val Loss: 1.63722 | Train Acc: 70.139| Val Acc: 34.375\n",
      "Epoch 088: | Train Loss: 0.09801 | Val Loss: 1.77032 | Train Acc: 72.556| Val Acc: 33.594\n",
      "Epoch 089: | Train Loss: 0.09872 | Val Loss: 1.86083 | Train Acc: 72.514| Val Acc: 31.250\n",
      "Epoch 090: | Train Loss: 0.08643 | Val Loss: 1.64727 | Train Acc: 73.722| Val Acc: 33.594\n",
      "Epoch 091: | Train Loss: 0.07569 | Val Loss: 1.71958 | Train Acc: 72.153| Val Acc: 32.812\n",
      "Epoch 092: | Train Loss: 0.08726 | Val Loss: 1.65343 | Train Acc: 72.639| Val Acc: 31.250\n"
     ]
    },
    {
     "name": "stdout",
     "output_type": "stream",
     "text": [
      "Epoch 093: | Train Loss: 0.08629 | Val Loss: 1.62450 | Train Acc: 69.944| Val Acc: 35.156\n",
      "Epoch 094: | Train Loss: 0.08499 | Val Loss: 1.56664 | Train Acc: 72.139| Val Acc: 38.281\n",
      "Epoch 095: | Train Loss: 0.10101 | Val Loss: 1.64846 | Train Acc: 72.306| Val Acc: 33.594\n",
      "Epoch 096: | Train Loss: 0.10991 | Val Loss: 1.56761 | Train Acc: 69.778| Val Acc: 38.281\n",
      "Epoch 097: | Train Loss: 0.08271 | Val Loss: 1.71711 | Train Acc: 74.375| Val Acc: 32.812\n",
      "Epoch 098: | Train Loss: 0.09651 | Val Loss: 1.60077 | Train Acc: 72.000| Val Acc: 36.719\n",
      "Epoch 099: | Train Loss: 0.06629 | Val Loss: 1.59464 | Train Acc: 74.514| Val Acc: 35.938\n",
      "Epoch 100: | Train Loss: 0.08124 | Val Loss: 1.74003 | Train Acc: 73.792| Val Acc: 31.250\n",
      "Epoch 101: | Train Loss: 0.07020 | Val Loss: 1.52236 | Train Acc: 73.083| Val Acc: 36.719\n",
      "Epoch 102: | Train Loss: 0.07841 | Val Loss: 1.62399 | Train Acc: 73.042| Val Acc: 35.156\n",
      "Epoch 103: | Train Loss: 0.07074 | Val Loss: 1.62395 | Train Acc: 73.722| Val Acc: 35.156\n",
      "Epoch 104: | Train Loss: 0.07743 | Val Loss: 1.62499 | Train Acc: 73.278| Val Acc: 39.062\n",
      "Epoch 105: | Train Loss: 0.06714 | Val Loss: 1.72097 | Train Acc: 73.722| Val Acc: 35.156\n",
      "Epoch 106: | Train Loss: 0.08537 | Val Loss: 1.69250 | Train Acc: 73.792| Val Acc: 37.500\n",
      "Epoch 107: | Train Loss: 0.08779 | Val Loss: 1.82910 | Train Acc: 73.250| Val Acc: 32.812\n",
      "Epoch 108: | Train Loss: 0.13770 | Val Loss: 1.90774 | Train Acc: 74.292| Val Acc: 26.562\n",
      "Epoch 109: | Train Loss: 0.06792 | Val Loss: 1.71197 | Train Acc: 73.236| Val Acc: 32.812\n",
      "Epoch 110: | Train Loss: 0.09546 | Val Loss: 1.72271 | Train Acc: 72.986| Val Acc: 37.500\n",
      "Epoch 111: | Train Loss: 0.08356 | Val Loss: 1.84969 | Train Acc: 72.639| Val Acc: 35.156\n",
      "Epoch 112: | Train Loss: 0.08342 | Val Loss: 1.67963 | Train Acc: 71.958| Val Acc: 38.281\n",
      "Epoch 113: | Train Loss: 0.07324 | Val Loss: 1.58921 | Train Acc: 73.236| Val Acc: 42.188\n",
      "Epoch 114: | Train Loss: 0.08805 | Val Loss: 1.68797 | Train Acc: 73.319| Val Acc: 39.062\n",
      "Epoch 115: | Train Loss: 0.10901 | Val Loss: 1.55048 | Train Acc: 72.639| Val Acc: 42.188\n",
      "Epoch 116: | Train Loss: 0.07613 | Val Loss: 1.57148 | Train Acc: 73.417| Val Acc: 40.625\n",
      "Epoch 117: | Train Loss: 0.07857 | Val Loss: 1.65727 | Train Acc: 73.764| Val Acc: 36.719\n",
      "Epoch 118: | Train Loss: 0.07351 | Val Loss: 1.59784 | Train Acc: 74.222| Val Acc: 38.281\n",
      "Epoch 119: | Train Loss: 0.08254 | Val Loss: 1.68449 | Train Acc: 71.292| Val Acc: 40.625\n",
      "Epoch 120: | Train Loss: 0.07583 | Val Loss: 1.71055 | Train Acc: 73.542| Val Acc: 35.938\n",
      "Epoch 121: | Train Loss: 0.09097 | Val Loss: 1.62155 | Train Acc: 75.264| Val Acc: 39.062\n",
      "Epoch 122: | Train Loss: 0.08038 | Val Loss: 1.64008 | Train Acc: 70.903| Val Acc: 39.062\n",
      "Epoch 123: | Train Loss: 0.06722 | Val Loss: 1.47759 | Train Acc: 74.931| Val Acc: 35.938\n",
      "Epoch 124: | Train Loss: 0.07817 | Val Loss: 1.72061 | Train Acc: 74.986| Val Acc: 38.281\n",
      "Epoch 125: | Train Loss: 0.07418 | Val Loss: 1.62374 | Train Acc: 77.236| Val Acc: 39.844\n",
      "Epoch 126: | Train Loss: 0.07127 | Val Loss: 1.59372 | Train Acc: 73.625| Val Acc: 35.938\n",
      "Epoch 127: | Train Loss: 0.08659 | Val Loss: 1.81683 | Train Acc: 74.167| Val Acc: 32.031\n",
      "Epoch 128: | Train Loss: 0.07959 | Val Loss: 1.67929 | Train Acc: 72.889| Val Acc: 36.719\n",
      "Epoch 129: | Train Loss: 0.12191 | Val Loss: 1.64325 | Train Acc: 70.167| Val Acc: 40.625\n",
      "Epoch 130: | Train Loss: 0.10889 | Val Loss: 1.65439 | Train Acc: 71.583| Val Acc: 35.156\n",
      "Epoch 131: | Train Loss: 0.07691 | Val Loss: 1.51727 | Train Acc: 71.778| Val Acc: 39.844\n",
      "Epoch 132: | Train Loss: 0.08254 | Val Loss: 1.49731 | Train Acc: 70.958| Val Acc: 46.094\n",
      "Epoch 133: | Train Loss: 0.05655 | Val Loss: 1.59680 | Train Acc: 74.875| Val Acc: 41.406\n",
      "Epoch 134: | Train Loss: 0.08808 | Val Loss: 1.53630 | Train Acc: 73.889| Val Acc: 42.188\n",
      "Epoch 135: | Train Loss: 0.06479 | Val Loss: 1.65274 | Train Acc: 76.583| Val Acc: 37.500\n",
      "Epoch 136: | Train Loss: 0.08166 | Val Loss: 1.60919 | Train Acc: 75.250| Val Acc: 44.531\n",
      "Epoch 137: | Train Loss: 0.09305 | Val Loss: 1.62360 | Train Acc: 72.264| Val Acc: 40.625\n",
      "Epoch 138: | Train Loss: 0.07801 | Val Loss: 1.63663 | Train Acc: 72.986| Val Acc: 39.062\n",
      "Epoch 139: | Train Loss: 0.07670 | Val Loss: 1.62349 | Train Acc: 75.806| Val Acc: 37.500\n",
      "Epoch 140: | Train Loss: 0.07589 | Val Loss: 1.72470 | Train Acc: 75.583| Val Acc: 33.594\n",
      "Epoch 141: | Train Loss: 0.06191 | Val Loss: 1.56109 | Train Acc: 75.514| Val Acc: 37.500\n",
      "Epoch 142: | Train Loss: 0.06355 | Val Loss: 1.64058 | Train Acc: 77.194| Val Acc: 35.156\n",
      "Epoch 143: | Train Loss: 0.12233 | Val Loss: 1.71809 | Train Acc: 74.042| Val Acc: 35.938\n",
      "Epoch 144: | Train Loss: 0.08782 | Val Loss: 1.67144 | Train Acc: 75.069| Val Acc: 40.625\n",
      "Epoch 145: | Train Loss: 0.07787 | Val Loss: 1.77773 | Train Acc: 74.458| Val Acc: 33.594\n",
      "Epoch 146: | Train Loss: 0.07705 | Val Loss: 1.75981 | Train Acc: 74.931| Val Acc: 35.938\n",
      "Epoch 147: | Train Loss: 0.08196 | Val Loss: 1.59340 | Train Acc: 74.569| Val Acc: 36.719\n",
      "Epoch 148: | Train Loss: 0.11116 | Val Loss: 1.64199 | Train Acc: 74.153| Val Acc: 41.406\n",
      "Epoch 149: | Train Loss: 0.06631 | Val Loss: 1.64240 | Train Acc: 74.139| Val Acc: 34.375\n",
      "Epoch 150: | Train Loss: 0.06665 | Val Loss: 1.77556 | Train Acc: 76.736| Val Acc: 33.594\n",
      "Epoch 151: | Train Loss: 0.07432 | Val Loss: 1.67916 | Train Acc: 74.333| Val Acc: 35.156\n",
      "Epoch 152: | Train Loss: 0.06791 | Val Loss: 1.62550 | Train Acc: 74.194| Val Acc: 38.281\n",
      "Epoch 153: | Train Loss: 0.07639 | Val Loss: 1.52305 | Train Acc: 73.889| Val Acc: 42.969\n",
      "Epoch 154: | Train Loss: 0.07282 | Val Loss: 1.60593 | Train Acc: 73.639| Val Acc: 40.625\n",
      "Epoch 155: | Train Loss: 0.06473 | Val Loss: 1.55136 | Train Acc: 75.681| Val Acc: 40.625\n",
      "Epoch 156: | Train Loss: 0.05389 | Val Loss: 1.58651 | Train Acc: 76.861| Val Acc: 39.062\n",
      "Epoch 157: | Train Loss: 0.06517 | Val Loss: 1.65556 | Train Acc: 72.389| Val Acc: 38.281\n",
      "Epoch 158: | Train Loss: 0.07309 | Val Loss: 1.59342 | Train Acc: 74.917| Val Acc: 36.719\n",
      "Epoch 159: | Train Loss: 0.08926 | Val Loss: 1.66385 | Train Acc: 75.958| Val Acc: 37.500\n",
      "Epoch 160: | Train Loss: 0.10114 | Val Loss: 1.67461 | Train Acc: 72.653| Val Acc: 37.500\n",
      "Epoch 161: | Train Loss: 0.06457 | Val Loss: 1.59388 | Train Acc: 77.222| Val Acc: 37.500\n",
      "Epoch 162: | Train Loss: 0.06607 | Val Loss: 1.68323 | Train Acc: 74.931| Val Acc: 37.500\n",
      "Epoch 163: | Train Loss: 0.05375 | Val Loss: 1.51877 | Train Acc: 77.292| Val Acc: 39.844\n",
      "Epoch 164: | Train Loss: 0.07848 | Val Loss: 1.68404 | Train Acc: 75.333| Val Acc: 37.500\n",
      "Epoch 165: | Train Loss: 0.07438 | Val Loss: 1.62558 | Train Acc: 74.458| Val Acc: 36.719\n",
      "Epoch 166: | Train Loss: 0.09024 | Val Loss: 1.65231 | Train Acc: 74.667| Val Acc: 34.375\n",
      "Epoch 167: | Train Loss: 0.09462 | Val Loss: 1.67644 | Train Acc: 73.681| Val Acc: 34.375\n",
      "Epoch 168: | Train Loss: 0.09229 | Val Loss: 1.71822 | Train Acc: 72.236| Val Acc: 36.719\n",
      "Epoch 169: | Train Loss: 0.07217 | Val Loss: 1.54111 | Train Acc: 75.403| Val Acc: 40.625\n",
      "Epoch 170: | Train Loss: 0.06778 | Val Loss: 1.55528 | Train Acc: 74.972| Val Acc: 45.312\n",
      "Epoch 171: | Train Loss: 0.07820 | Val Loss: 1.58203 | Train Acc: 75.250| Val Acc: 35.156\n",
      "Epoch 172: | Train Loss: 0.08113 | Val Loss: 1.68690 | Train Acc: 74.958| Val Acc: 42.188\n",
      "Epoch 173: | Train Loss: 0.05769 | Val Loss: 1.54735 | Train Acc: 76.236| Val Acc: 38.281\n",
      "Epoch 174: | Train Loss: 0.10152 | Val Loss: 1.67785 | Train Acc: 76.722| Val Acc: 39.844\n",
      "Epoch 175: | Train Loss: 0.07307 | Val Loss: 1.57652 | Train Acc: 73.083| Val Acc: 36.719\n",
      "Epoch 176: | Train Loss: 0.08103 | Val Loss: 1.54124 | Train Acc: 75.528| Val Acc: 39.062\n",
      "Epoch 177: | Train Loss: 0.08345 | Val Loss: 1.60371 | Train Acc: 76.569| Val Acc: 39.062\n",
      "Epoch 178: | Train Loss: 0.06267 | Val Loss: 1.53540 | Train Acc: 75.708| Val Acc: 37.500\n",
      "Epoch 179: | Train Loss: 0.07950 | Val Loss: 1.54409 | Train Acc: 74.819| Val Acc: 38.281\n",
      "Epoch 180: | Train Loss: 0.10133 | Val Loss: 1.60642 | Train Acc: 76.278| Val Acc: 39.844\n",
      "Epoch 181: | Train Loss: 0.06646 | Val Loss: 1.64185 | Train Acc: 77.014| Val Acc: 36.719\n",
      "Epoch 182: | Train Loss: 0.06837 | Val Loss: 1.60833 | Train Acc: 74.556| Val Acc: 38.281\n",
      "Epoch 183: | Train Loss: 0.05924 | Val Loss: 1.57399 | Train Acc: 76.556| Val Acc: 41.406\n",
      "Epoch 184: | Train Loss: 0.05442 | Val Loss: 1.57926 | Train Acc: 75.500| Val Acc: 41.406\n"
     ]
    },
    {
     "name": "stdout",
     "output_type": "stream",
     "text": [
      "Epoch 185: | Train Loss: 0.05986 | Val Loss: 1.42187 | Train Acc: 76.306| Val Acc: 44.531\n",
      "Epoch 186: | Train Loss: 0.05392 | Val Loss: 1.50869 | Train Acc: 77.819| Val Acc: 40.625\n",
      "Epoch 187: | Train Loss: 0.06193 | Val Loss: 1.54701 | Train Acc: 76.708| Val Acc: 42.188\n",
      "Epoch 188: | Train Loss: 0.07503 | Val Loss: 1.62600 | Train Acc: 74.986| Val Acc: 39.844\n",
      "Epoch 189: | Train Loss: 0.06458 | Val Loss: 1.55919 | Train Acc: 77.944| Val Acc: 39.062\n",
      "Epoch 190: | Train Loss: 0.06941 | Val Loss: 1.60384 | Train Acc: 74.667| Val Acc: 42.969\n",
      "Epoch 191: | Train Loss: 0.07507 | Val Loss: 1.58063 | Train Acc: 75.625| Val Acc: 40.625\n",
      "Epoch 192: | Train Loss: 0.07160 | Val Loss: 1.55537 | Train Acc: 75.389| Val Acc: 40.625\n",
      "Epoch 193: | Train Loss: 0.08816 | Val Loss: 1.59139 | Train Acc: 75.014| Val Acc: 38.281\n",
      "Epoch 194: | Train Loss: 0.07073 | Val Loss: 1.48309 | Train Acc: 74.167| Val Acc: 40.625\n",
      "Epoch 195: | Train Loss: 0.05638 | Val Loss: 1.55156 | Train Acc: 77.375| Val Acc: 35.938\n",
      "Epoch 196: | Train Loss: 0.07201 | Val Loss: 1.56063 | Train Acc: 76.625| Val Acc: 39.844\n",
      "Epoch 197: | Train Loss: 0.06802 | Val Loss: 1.54307 | Train Acc: 74.806| Val Acc: 41.406\n",
      "Epoch 198: | Train Loss: 0.08048 | Val Loss: 1.66268 | Train Acc: 73.861| Val Acc: 37.500\n",
      "Epoch 199: | Train Loss: 0.05702 | Val Loss: 1.62170 | Train Acc: 77.333| Val Acc: 41.406\n",
      "Epoch 200: | Train Loss: 0.10250 | Val Loss: 1.59189 | Train Acc: 73.292| Val Acc: 39.062\n",
      "Epoch 201: | Train Loss: 0.11827 | Val Loss: 1.70302 | Train Acc: 73.444| Val Acc: 32.812\n",
      "Epoch 202: | Train Loss: 0.06897 | Val Loss: 1.59377 | Train Acc: 75.181| Val Acc: 30.469\n",
      "Epoch 203: | Train Loss: 0.07209 | Val Loss: 1.47790 | Train Acc: 76.667| Val Acc: 38.281\n",
      "Epoch 204: | Train Loss: 0.06702 | Val Loss: 1.60440 | Train Acc: 76.972| Val Acc: 37.500\n",
      "Epoch 205: | Train Loss: 0.06216 | Val Loss: 1.59438 | Train Acc: 78.069| Val Acc: 38.281\n",
      "Epoch 206: | Train Loss: 0.05531 | Val Loss: 1.50975 | Train Acc: 75.292| Val Acc: 38.281\n",
      "Epoch 207: | Train Loss: 0.06895 | Val Loss: 1.66158 | Train Acc: 75.125| Val Acc: 36.719\n",
      "Epoch 208: | Train Loss: 0.07942 | Val Loss: 1.55481 | Train Acc: 75.375| Val Acc: 40.625\n",
      "Epoch 209: | Train Loss: 0.07578 | Val Loss: 1.73859 | Train Acc: 74.792| Val Acc: 38.281\n",
      "Epoch 210: | Train Loss: 0.05205 | Val Loss: 1.61989 | Train Acc: 77.069| Val Acc: 41.406\n",
      "Epoch 211: | Train Loss: 0.06916 | Val Loss: 1.58438 | Train Acc: 76.375| Val Acc: 41.406\n",
      "Epoch 212: | Train Loss: 0.07796 | Val Loss: 1.65016 | Train Acc: 75.778| Val Acc: 41.406\n",
      "Epoch 213: | Train Loss: 0.07980 | Val Loss: 1.69638 | Train Acc: 75.861| Val Acc: 38.281\n",
      "Epoch 214: | Train Loss: 0.05014 | Val Loss: 1.60713 | Train Acc: 76.861| Val Acc: 40.625\n",
      "Epoch 215: | Train Loss: 0.06241 | Val Loss: 1.55223 | Train Acc: 79.222| Val Acc: 42.188\n",
      "Epoch 216: | Train Loss: 0.09104 | Val Loss: 1.57844 | Train Acc: 75.653| Val Acc: 37.500\n",
      "Epoch 217: | Train Loss: 0.08491 | Val Loss: 1.51174 | Train Acc: 76.208| Val Acc: 34.375\n",
      "Epoch 218: | Train Loss: 0.06084 | Val Loss: 1.60382 | Train Acc: 77.528| Val Acc: 40.625\n",
      "Epoch 219: | Train Loss: 0.05637 | Val Loss: 1.51246 | Train Acc: 75.889| Val Acc: 39.062\n",
      "Epoch 220: | Train Loss: 0.05075 | Val Loss: 1.41816 | Train Acc: 75.792| Val Acc: 42.969\n",
      "Epoch 221: | Train Loss: 0.05812 | Val Loss: 1.55568 | Train Acc: 78.431| Val Acc: 39.062\n",
      "Epoch 222: | Train Loss: 0.06033 | Val Loss: 1.61175 | Train Acc: 79.264| Val Acc: 40.625\n",
      "Epoch 223: | Train Loss: 0.06239 | Val Loss: 1.51683 | Train Acc: 78.597| Val Acc: 40.625\n",
      "Epoch 224: | Train Loss: 0.07827 | Val Loss: 1.60533 | Train Acc: 76.653| Val Acc: 37.500\n",
      "Epoch 225: | Train Loss: 0.06217 | Val Loss: 1.47032 | Train Acc: 76.028| Val Acc: 39.062\n",
      "Epoch 226: | Train Loss: 0.07740 | Val Loss: 1.49564 | Train Acc: 74.736| Val Acc: 40.625\n",
      "Epoch 227: | Train Loss: 0.07657 | Val Loss: 1.50598 | Train Acc: 76.917| Val Acc: 42.188\n",
      "Epoch 228: | Train Loss: 0.06987 | Val Loss: 1.53001 | Train Acc: 76.597| Val Acc: 37.500\n",
      "Epoch 229: | Train Loss: 0.06045 | Val Loss: 1.54617 | Train Acc: 76.819| Val Acc: 39.062\n",
      "Epoch 230: | Train Loss: 0.06638 | Val Loss: 1.45139 | Train Acc: 76.486| Val Acc: 44.531\n",
      "Epoch 231: | Train Loss: 0.07562 | Val Loss: 1.49467 | Train Acc: 74.583| Val Acc: 42.969\n",
      "Epoch 232: | Train Loss: 0.05762 | Val Loss: 1.54962 | Train Acc: 77.583| Val Acc: 42.969\n",
      "Epoch 233: | Train Loss: 0.06962 | Val Loss: 1.41167 | Train Acc: 76.847| Val Acc: 46.094\n",
      "Epoch 234: | Train Loss: 0.07129 | Val Loss: 1.41135 | Train Acc: 74.083| Val Acc: 43.750\n",
      "Epoch 235: | Train Loss: 0.05620 | Val Loss: 1.48788 | Train Acc: 78.069| Val Acc: 39.844\n",
      "Epoch 236: | Train Loss: 0.06025 | Val Loss: 1.55734 | Train Acc: 79.236| Val Acc: 42.188\n",
      "Epoch 237: | Train Loss: 0.06357 | Val Loss: 1.50949 | Train Acc: 76.986| Val Acc: 42.969\n",
      "Epoch 238: | Train Loss: 0.12184 | Val Loss: 1.42872 | Train Acc: 76.889| Val Acc: 39.844\n",
      "Epoch 239: | Train Loss: 0.07056 | Val Loss: 1.54544 | Train Acc: 78.139| Val Acc: 39.062\n",
      "Epoch 240: | Train Loss: 0.07999 | Val Loss: 1.69496 | Train Acc: 76.458| Val Acc: 35.938\n",
      "Epoch 241: | Train Loss: 0.06931 | Val Loss: 1.55149 | Train Acc: 73.111| Val Acc: 40.625\n",
      "Epoch 242: | Train Loss: 0.06818 | Val Loss: 1.56771 | Train Acc: 76.653| Val Acc: 38.281\n",
      "Epoch 243: | Train Loss: 0.06111 | Val Loss: 1.43683 | Train Acc: 78.431| Val Acc: 42.969\n",
      "Epoch 244: | Train Loss: 0.05065 | Val Loss: 1.46484 | Train Acc: 77.333| Val Acc: 41.406\n",
      "Epoch 245: | Train Loss: 0.05737 | Val Loss: 1.49048 | Train Acc: 78.125| Val Acc: 41.406\n",
      "Epoch 246: | Train Loss: 0.06942 | Val Loss: 1.44644 | Train Acc: 78.944| Val Acc: 39.844\n",
      "Epoch 247: | Train Loss: 0.05377 | Val Loss: 1.42128 | Train Acc: 77.556| Val Acc: 42.188\n",
      "Epoch 248: | Train Loss: 0.06391 | Val Loss: 1.46929 | Train Acc: 76.667| Val Acc: 44.531\n",
      "Epoch 249: | Train Loss: 0.05607 | Val Loss: 1.44062 | Train Acc: 74.819| Val Acc: 41.406\n",
      "Epoch 250: | Train Loss: 0.07529 | Val Loss: 1.40459 | Train Acc: 76.944| Val Acc: 46.094\n",
      "Epoch 251: | Train Loss: 0.04533 | Val Loss: 1.48984 | Train Acc: 78.778| Val Acc: 39.844\n",
      "Epoch 252: | Train Loss: 0.07235 | Val Loss: 1.49730 | Train Acc: 76.681| Val Acc: 42.969\n",
      "Epoch 253: | Train Loss: 0.05495 | Val Loss: 1.51910 | Train Acc: 77.861| Val Acc: 39.844\n",
      "Epoch 254: | Train Loss: 0.07598 | Val Loss: 1.47705 | Train Acc: 77.319| Val Acc: 39.062\n",
      "Epoch 255: | Train Loss: 0.07368 | Val Loss: 1.49021 | Train Acc: 78.069| Val Acc: 41.406\n",
      "Epoch 256: | Train Loss: 0.05395 | Val Loss: 1.47405 | Train Acc: 77.778| Val Acc: 42.188\n",
      "Epoch 257: | Train Loss: 0.06058 | Val Loss: 1.53613 | Train Acc: 80.806| Val Acc: 39.844\n",
      "Epoch 258: | Train Loss: 0.04889 | Val Loss: 1.49778 | Train Acc: 79.500| Val Acc: 42.188\n",
      "Epoch 259: | Train Loss: 0.06882 | Val Loss: 1.65110 | Train Acc: 77.236| Val Acc: 35.938\n",
      "Epoch 260: | Train Loss: 0.05558 | Val Loss: 1.60553 | Train Acc: 76.292| Val Acc: 37.500\n",
      "Epoch 261: | Train Loss: 0.05839 | Val Loss: 1.57215 | Train Acc: 77.208| Val Acc: 35.156\n",
      "Epoch 262: | Train Loss: 0.06980 | Val Loss: 1.63804 | Train Acc: 76.042| Val Acc: 38.281\n",
      "Epoch 263: | Train Loss: 0.06237 | Val Loss: 1.55672 | Train Acc: 77.500| Val Acc: 38.281\n",
      "Epoch 264: | Train Loss: 0.06648 | Val Loss: 1.66290 | Train Acc: 77.861| Val Acc: 37.500\n",
      "Epoch 265: | Train Loss: 0.09606 | Val Loss: 1.45369 | Train Acc: 74.444| Val Acc: 39.062\n",
      "Epoch 266: | Train Loss: 0.06605 | Val Loss: 1.64573 | Train Acc: 77.083| Val Acc: 35.938\n",
      "Epoch 267: | Train Loss: 0.05088 | Val Loss: 1.53985 | Train Acc: 76.931| Val Acc: 38.281\n",
      "Epoch 268: | Train Loss: 0.06116 | Val Loss: 1.56487 | Train Acc: 80.208| Val Acc: 39.844\n",
      "Epoch 269: | Train Loss: 0.05774 | Val Loss: 1.65980 | Train Acc: 78.847| Val Acc: 38.281\n",
      "Epoch 270: | Train Loss: 0.06109 | Val Loss: 1.56859 | Train Acc: 76.917| Val Acc: 41.406\n",
      "Epoch 271: | Train Loss: 0.04582 | Val Loss: 1.51706 | Train Acc: 78.528| Val Acc: 42.969\n",
      "Epoch 272: | Train Loss: 0.04843 | Val Loss: 1.56544 | Train Acc: 79.431| Val Acc: 42.188\n",
      "Epoch 273: | Train Loss: 0.05571 | Val Loss: 1.51207 | Train Acc: 79.347| Val Acc: 42.188\n",
      "Epoch 274: | Train Loss: 0.06318 | Val Loss: 1.53854 | Train Acc: 78.750| Val Acc: 39.844\n",
      "Epoch 275: | Train Loss: 0.05080 | Val Loss: 1.50293 | Train Acc: 79.097| Val Acc: 39.844\n",
      "Epoch 276: | Train Loss: 0.05761 | Val Loss: 1.53275 | Train Acc: 77.486| Val Acc: 42.188\n"
     ]
    },
    {
     "name": "stdout",
     "output_type": "stream",
     "text": [
      "Epoch 277: | Train Loss: 0.06877 | Val Loss: 1.54077 | Train Acc: 79.778| Val Acc: 40.625\n",
      "Epoch 278: | Train Loss: 0.05714 | Val Loss: 1.60091 | Train Acc: 76.500| Val Acc: 39.844\n",
      "Epoch 279: | Train Loss: 0.05681 | Val Loss: 1.47428 | Train Acc: 79.667| Val Acc: 42.969\n",
      "Epoch 280: | Train Loss: 0.05728 | Val Loss: 1.51517 | Train Acc: 78.431| Val Acc: 37.500\n",
      "Epoch 281: | Train Loss: 0.09954 | Val Loss: 1.59753 | Train Acc: 74.792| Val Acc: 42.969\n",
      "Epoch 282: | Train Loss: 0.06224 | Val Loss: 1.79229 | Train Acc: 77.625| Val Acc: 36.719\n",
      "Epoch 283: | Train Loss: 0.07697 | Val Loss: 1.67050 | Train Acc: 77.083| Val Acc: 39.844\n",
      "Epoch 284: | Train Loss: 0.06391 | Val Loss: 1.71094 | Train Acc: 77.083| Val Acc: 38.281\n",
      "Epoch 285: | Train Loss: 0.06066 | Val Loss: 1.67893 | Train Acc: 79.708| Val Acc: 37.500\n",
      "Epoch 286: | Train Loss: 0.04925 | Val Loss: 1.56639 | Train Acc: 79.000| Val Acc: 39.062\n",
      "Epoch 287: | Train Loss: 0.04560 | Val Loss: 1.55056 | Train Acc: 78.278| Val Acc: 39.844\n",
      "Epoch 288: | Train Loss: 0.05448 | Val Loss: 1.45527 | Train Acc: 77.222| Val Acc: 40.625\n",
      "Epoch 289: | Train Loss: 0.05843 | Val Loss: 1.51655 | Train Acc: 77.569| Val Acc: 40.625\n",
      "Epoch 290: | Train Loss: 0.06648 | Val Loss: 1.58166 | Train Acc: 77.708| Val Acc: 38.281\n",
      "Epoch 291: | Train Loss: 0.05409 | Val Loss: 1.47175 | Train Acc: 76.333| Val Acc: 39.062\n",
      "Epoch 292: | Train Loss: 0.04855 | Val Loss: 1.65639 | Train Acc: 80.208| Val Acc: 44.531\n",
      "Epoch 293: | Train Loss: 0.06084 | Val Loss: 1.78013 | Train Acc: 76.028| Val Acc: 33.594\n",
      "Epoch 294: | Train Loss: 0.06040 | Val Loss: 1.53615 | Train Acc: 77.528| Val Acc: 39.062\n",
      "Epoch 295: | Train Loss: 0.06998 | Val Loss: 1.62501 | Train Acc: 75.514| Val Acc: 39.062\n",
      "Epoch 296: | Train Loss: 0.05705 | Val Loss: 1.49288 | Train Acc: 79.153| Val Acc: 42.188\n",
      "Epoch 297: | Train Loss: 0.05372 | Val Loss: 1.71335 | Train Acc: 77.986| Val Acc: 38.281\n",
      "Epoch 298: | Train Loss: 0.05416 | Val Loss: 1.55922 | Train Acc: 76.847| Val Acc: 40.625\n",
      "Epoch 299: | Train Loss: 0.05867 | Val Loss: 1.55681 | Train Acc: 78.375| Val Acc: 40.625\n",
      "Epoch 300: | Train Loss: 0.05857 | Val Loss: 1.57733 | Train Acc: 76.514| Val Acc: 39.844\n"
     ]
    }
   ],
   "source": [
    "print(\"Begin training.\")\n",
    "\n",
    "for e in tqdm(range(1, EPOCHS+1)):\n",
    "    \n",
    "    # TRAINING\n",
    "    train_epoch_loss = 0\n",
    "    train_epoch_acc = 0\n",
    "    \n",
    "    model.train()\n",
    "    for X_train_batch, y_train_batch in train_loader:\n",
    "        X_train_batch, y_train_batch = X_train_batch.to(device), y_train_batch.to(device)\n",
    "        \n",
    "        optimizer.zero_grad()\n",
    "        \n",
    "        y_train_pred = model(X_train_batch)\n",
    "        \n",
    "        train_loss = criterion(y_train_pred, y_train_batch)\n",
    "        train_acc = multi_acc(y_train_pred, y_train_batch)\n",
    "        \n",
    "        train_loss.backward()\n",
    "        optimizer.step()\n",
    "        \n",
    "        train_epoch_loss += train_loss.item()\n",
    "        train_epoch_acc += train_acc.item()\n",
    "        \n",
    "        \n",
    "    # VALIDATION    \n",
    "    with torch.no_grad():\n",
    "        \n",
    "        val_epoch_loss = 0\n",
    "        val_epoch_acc = 0\n",
    "        \n",
    "        model.eval()\n",
    "        for X_val_batch, y_val_batch in val_loader:\n",
    "            X_val_batch, y_val_batch = X_val_batch.to(device), y_val_batch.to(device)\n",
    "            \n",
    "            y_val_pred = model(X_val_batch)\n",
    "                        \n",
    "            val_loss = criterion(y_val_pred, y_val_batch)\n",
    "            val_acc = multi_acc(y_val_pred, y_val_batch)\n",
    "            \n",
    "            val_epoch_loss += val_loss.item()\n",
    "            val_epoch_acc += val_acc.item()\n",
    "            \n",
    "    loss_stats['train'].append(train_epoch_loss/len(train_loader))\n",
    "    loss_stats['val'].append(val_epoch_loss/len(val_loader))\n",
    "    accuracy_stats['train'].append(train_epoch_acc/len(train_loader))\n",
    "    accuracy_stats['val'].append(val_epoch_acc/len(val_loader))\n",
    "                              \n",
    "    \n",
    "    print(f'Epoch {e+0:03}: | Train Loss: {train_epoch_loss/len(train_loader):.5f} | Val Loss: {val_epoch_loss/len(val_loader):.5f} | Train Acc: {train_epoch_acc/len(train_loader):.3f}| Val Acc: {val_epoch_acc/len(val_loader):.3f}')"
   ]
  },
  {
   "cell_type": "code",
   "execution_count": 45,
   "id": "d9a37dc4",
   "metadata": {},
   "outputs": [
    {
     "data": {
      "text/plain": [
       "Text(0.5, 1.0, 'Train-Val Loss/Epoch')"
      ]
     },
     "execution_count": 45,
     "metadata": {},
     "output_type": "execute_result"
    },
    {
     "data": {
      "image/png": "[encoded data removed]",
      "text/plain": [
       "<Figure size 1440x504 with 2 Axes>"
      ]
     },
     "metadata": {
      "needs_background": "light"
     },
     "output_type": "display_data"
    }
   ],
   "source": [
    "# Create dataframes\n",
    "train_val_acc_df = pd.DataFrame.from_dict(accuracy_stats\n",
    "                                         ).reset_index().melt(id_vars=['index']\n",
    "                                                             ).rename(columns={\"index\":\"epochs\"})\n",
    "\n",
    "\n",
    "\n",
    "train_val_loss_df = pd.DataFrame.from_dict(loss_stats\n",
    "                                          ).reset_index().melt(id_vars=['index']\n",
    "                                                                         ).rename(columns={\"index\":\"epochs\"})# Plot the dataframes\n",
    "fig, axes = plt.subplots(nrows=1, ncols=2, figsize=(20,7))\n",
    "\n",
    "\n",
    "sns.lineplot(data=train_val_acc_df, x = \"epochs\", y=\"value\", hue=\"variable\",  ax=axes[0]\n",
    "            ).set_title('Train-Val Accuracy/Epoch')\n",
    "\n",
    "sns.lineplot(data=train_val_loss_df,\n",
    "               x = \"epochs\", y=\"value\", hue=\"variable\", ax=axes[1]\n",
    "                        ).set_title('Train-Val Loss/Epoch')"
   ]
  },
  {
   "cell_type": "code",
   "execution_count": 46,
   "id": "9714c868",
   "metadata": {},
   "outputs": [],
   "source": [
    "y_pred_list = []\n",
    "\n",
    "with torch.no_grad():\n",
    "    model.eval()\n",
    "    for X_batch, _ in test_loader:\n",
    "        X_batch = X_batch.to(device)\n",
    "        y_test_pred = model(X_batch)\n",
    "        _, y_pred_tags = torch.max(y_test_pred, dim = 1)\n",
    "        y_pred_list.append(y_pred_tags.cpu().numpy())\n",
    "        \n",
    "y_pred_list = [a.squeeze().tolist() for a in y_pred_list]"
   ]
  },
  {
   "cell_type": "code",
   "execution_count": 47,
   "id": "a2c16656",
   "metadata": {},
   "outputs": [
    {
     "data": {
      "text/plain": [
       "<AxesSubplot:>"
      ]
     },
     "execution_count": 47,
     "metadata": {},
     "output_type": "execute_result"
    },
    {
     "data": {
      "image/png": "[encoded data removed]",
      "text/plain": [
       "<Figure size 432x288 with 2 Axes>"
      ]
     },
     "metadata": {
      "needs_background": "light"
     },
     "output_type": "display_data"
    }
   ],
   "source": [
    "confusion_matrix_df = pd.DataFrame(confusion_matrix(y_test, y_pred_list)\n",
    "                                  ).rename(columns=idx2class, index=idx2class)\n",
    "\n",
    "\n",
    "sns.heatmap(confusion_matrix_df, annot=True)"
   ]
  },
  {
   "cell_type": "code",
   "execution_count": 48,
   "id": "9bbcefd9",
   "metadata": {},
   "outputs": [
    {
     "name": "stdout",
     "output_type": "stream",
     "text": [
      "              precision    recall  f1-score   support\n",
      "\n",
      "           0       0.00      0.00      0.00         2\n",
      "           1       0.11      0.73      0.19        11\n",
      "           2       0.73      0.43      0.54       136\n",
      "           3       0.57      0.18      0.27       128\n",
      "           4       0.28      0.82      0.42        40\n",
      "           5       0.00      0.00      0.00         3\n",
      "\n",
      "    accuracy                           0.38       320\n",
      "   macro avg       0.28      0.36      0.24       320\n",
      "weighted avg       0.58      0.38      0.40       320\n",
      "\n"
     ]
    }
   ],
   "source": [
    "print(classification_report(y_test, y_pred_list))"
   ]
  },
  {
   "cell_type": "code",
   "execution_count": 49,
   "id": "af4eef62",
   "metadata": {},
   "outputs": [
    {
     "data": {
      "text/plain": [
       "0.38125"
      ]
     },
     "execution_count": 49,
     "metadata": {},
     "output_type": "execute_result"
    }
   ],
   "source": [
    "def compute_accuracy(y_true, y_pred):\n",
    "    correct_predictions = 0\n",
    "    # iterate over each label and check\n",
    "    for true, predicted in zip(y_true, y_pred):\n",
    "        if true == predicted:\n",
    "            correct_predictions += 1\n",
    "    # compute the accuracy\n",
    "    accuracy = correct_predictions/len(y_true)\n",
    "    return accuracy\n",
    "\n",
    "\n",
    "compute_accuracy(y_test, y_pred_list)"
   ]
  },
  {
   "cell_type": "code",
   "execution_count": null,
   "id": "a179af8a",
   "metadata": {},
   "outputs": [],
   "source": []
  }
 ],
 "metadata": {
  "kernelspec": {
   "display_name": "Python 3 (ipykernel)",
   "language": "python",
   "name": "python3"
  },
  "language_info": {
   "codemirror_mode": {
    "name": "ipython",
    "version": 3
   },
   "file_extension": ".py",
   "mimetype": "text/x-python",
   "name": "python",
   "nbconvert_exporter": "python",
   "pygments_lexer": "ipython3",
   "version": "3.9.12"
  }
 },
 "nbformat": 4,
 "nbformat_minor": 5
}
