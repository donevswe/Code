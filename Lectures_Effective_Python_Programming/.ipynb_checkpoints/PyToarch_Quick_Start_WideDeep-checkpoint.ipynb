{
 "cells": [
  {
   "cell_type": "markdown",
   "metadata": {},
   "source": [
    "# Getting Started with Pytorch WideDeep\n",
    "\n",
    "`pytorch-widedeep` is a flexible and modular way to build deep learning models. You can start with multimodal data (wide) while using deep learning to find complex relationships in your data (deep).  An example use case is predicting the value of a house based on images of the house, tabular data (e.g., number of rooms, floor area), and a text data (e.g, a detailed description).  With `pytorch-widedeep` you can bring all those disparate types of data into one deep learning model!\n",
    "\n",
    "### Is this package right for you?\n",
    "\n",
    "This notebook focuses on a deep learning approach to tabular data.  If you are just getting started, you are probably better off using an approach like gradient boosted machines, which typically perform better on tabular data.  Check out [Javier's post](https://jrzaurin.github.io/infinitoml/2021/05/28/pytorch-widedeep_iv.html) for a comparison of GBM versus deep learning.  However, for people with larger datasets, more complex features, multiclass, multitarget, or multitask, using a deep learning approach has benefits, check out how [Pinterest](https://medium.com/pinterest-engineering/how-we-use-automl-multi-task-learning-and-multi-tower-models-for-pinterest-ads-db966c3dc99e) or [Lyft](https://twimlai.com/causal-models-in-practice-at-lyft-with-sean-taylor/) have moved to deep learning models.\n",
    "\n",
    "The notebook focuses on `pytorch-widedeep` which I like, but the pytorch ecoysystem has lots of other great packages I would recommend including [fast.ai](https://docs.fast.ai/), [pytorch-tabular](https://pytorch-tabular.readthedocs.io/en/latest/), and [pytorch-forecasting](https://pytorch-forecasting.readthedocs.io/en/latest/).    \n",
    "\n",
    "### How to use this notebook\n",
    "\n",
    "The notebook is structured to walk you through a typical workflow of preprocessing your data, defining a model, training a model, and then getting predictions. We start with a simple MLP with TabMLP and then move to more complex approaches like the TabResnet, and TabTransformer. Links to additional documentation and academic papers are also included.\n",
    "\n",
    "The notebook is intended to be an interactive way to explore the pytorch models. Take time to look at each object that is created and understand what is happening at every step. This notebook is not intended as boilerplate code for building a production mode. Finally, this notebook is just the start. There are plenty of other [example notebooks](https://github.com/jrzaurin/pytorch-widedeep/tree/master/examples) that cover more advanced uses like [combining images and text](https://github.com/jrzaurin/pytorch-widedeep/blob/master/examples/05_Regression_with_Images_and_Text.ipynb). "
   ]
  },
  {
   "cell_type": "markdown",
   "metadata": {},
   "source": [
    "### Install and Data Prep"
   ]
  },
  {
   "cell_type": "markdown",
   "metadata": {},
   "source": [
    "[Click here to open in Google Colab](https://colab.research.google.com/github/rajshah4/widedeep_notebooks/blob/main/Quick_Start_WideDeep.ipynb).  \n",
    "\n",
    "Installing pytorch-widedeep is a an important first step. After, that we will import in the necessary libraries for this notebook."
   ]
  },
  {
   "cell_type": "code",
   "execution_count": 1,
   "metadata": {},
   "outputs": [],
   "source": [
    "##Packages to install when using Google Colab\n",
    "#!pip install pytorch-widedeep\n",
    "#!pip install captum\n",
    "#You should then restart the runtime"
   ]
  },
  {
   "cell_type": "code",
   "execution_count": 2,
   "metadata": {},
   "outputs": [
    {
     "name": "stderr",
     "output_type": "stream",
     "text": [
      "/home/evdo/anaconda3/lib/python3.8/site-packages/ipykernel/ipkernel.py:287: DeprecationWarning: `should_run_async` will not call `transform_cell` automatically in the future. Please pass the result to `transformed_cell` argument and any exception that happen during thetransform in `preprocessing_exc_tuple` in IPython 7.17 and above.\n",
      "  and should_run_async(code)\n"
     ]
    }
   ],
   "source": [
    "import numpy as np\n",
    "import pandas as pd\n",
    "import torch\n",
    "\n",
    "from pytorch_widedeep.preprocessing import WidePreprocessor, TabPreprocessor\n",
    "from pytorch_widedeep.training import Trainer\n",
    "from pytorch_widedeep.models import Wide, TabMlp, TabResnet, TabTransformer, WideDeep, TabFastFormer, TabPerceiver\n",
    "from pytorch_widedeep.metrics import Accuracy, Precision\n",
    "\n",
    "from captum.attr._core.feature_permutation import FeaturePermutation\n",
    "\n",
    "import matplotlib.pyplot as plt"
   ]
  },
  {
   "cell_type": "code",
   "execution_count": 3,
   "metadata": {},
   "outputs": [
    {
     "name": "stderr",
     "output_type": "stream",
     "text": [
      "/home/evdo/anaconda3/lib/python3.8/site-packages/ipykernel/ipkernel.py:287: DeprecationWarning: `should_run_async` will not call `transform_cell` automatically in the future. Please pass the result to `transformed_cell` argument and any exception that happen during thetransform in `preprocessing_exc_tuple` in IPython 7.17 and above.\n",
      "  and should_run_async(code)\n"
     ]
    }
   ],
   "source": [
    "device = torch.device(\"cuda\") if torch.cuda.is_available() else torch.device(\"cpu\")"
   ]
  },
  {
   "cell_type": "markdown",
   "metadata": {},
   "source": [
    "The dataset for this notebooks is the [UCI Adult Census](https://archive.ics.uci.edu/ml/datasets/adult) dataset. This dataset was chosen because it has a mix of numerical and categorical features.  Let's prepare our data by putting all of the features and our target into one pandas dataframe."
   ]
  },
  {
   "cell_type": "code",
   "execution_count": 4,
   "metadata": {},
   "outputs": [
    {
     "name": "stdout",
     "output_type": "stream",
     "text": [
      "--2022-05-28 17:45:45--  https://archive.ics.uci.edu/ml/machine-learning-databases/adult/adult.data\n",
      "Resolving archive.ics.uci.edu (archive.ics.uci.edu)... 128.195.10.252\n",
      "Connecting to archive.ics.uci.edu (archive.ics.uci.edu)|128.195.10.252|:443... connected.\n",
      "HTTP request sent, awaiting response... 200 OK\n",
      "Length: 3974305 (3,8M) [application/x-httpd-php]\n",
      "Saving to: ‘adult.data.1’\n",
      "\n",
      "adult.data.1        100%[===================>]   3,79M   311KB/s    in 13s     \n",
      "\n",
      "2022-05-28 17:45:59 (301 KB/s) - ‘adult.data.1’ saved [3974305/3974305]\n",
      "\n"
     ]
    },
    {
     "data": {
      "text/html": [
       "<div>\n",
       "<style scoped>\n",
       "    .dataframe tbody tr th:only-of-type {\n",
       "        vertical-align: middle;\n",
       "    }\n",
       "\n",
       "    .dataframe tbody tr th {\n",
       "        vertical-align: top;\n",
       "    }\n",
       "\n",
       "    .dataframe thead th {\n",
       "        text-align: right;\n",
       "    }\n",
       "</style>\n",
       "<table border=\"1\" class=\"dataframe\">\n",
       "  <thead>\n",
       "    <tr style=\"text-align: right;\">\n",
       "      <th></th>\n",
       "      <th>age</th>\n",
       "      <th>workclass</th>\n",
       "      <th>fnlwgt</th>\n",
       "      <th>education</th>\n",
       "      <th>education_num</th>\n",
       "      <th>marital_status</th>\n",
       "      <th>occupation</th>\n",
       "      <th>relationship</th>\n",
       "      <th>race</th>\n",
       "      <th>sex</th>\n",
       "      <th>capital_gain</th>\n",
       "      <th>capital_loss</th>\n",
       "      <th>hours_per_week</th>\n",
       "      <th>native_country</th>\n",
       "      <th>income_label</th>\n",
       "    </tr>\n",
       "  </thead>\n",
       "  <tbody>\n",
       "    <tr>\n",
       "      <th>0</th>\n",
       "      <td>39</td>\n",
       "      <td>State-gov</td>\n",
       "      <td>77516</td>\n",
       "      <td>Bachelors</td>\n",
       "      <td>13</td>\n",
       "      <td>Never-married</td>\n",
       "      <td>Adm-clerical</td>\n",
       "      <td>Not-in-family</td>\n",
       "      <td>White</td>\n",
       "      <td>Male</td>\n",
       "      <td>2174</td>\n",
       "      <td>0</td>\n",
       "      <td>40</td>\n",
       "      <td>United-States</td>\n",
       "      <td>0</td>\n",
       "    </tr>\n",
       "    <tr>\n",
       "      <th>1</th>\n",
       "      <td>50</td>\n",
       "      <td>Self-emp-not-inc</td>\n",
       "      <td>83311</td>\n",
       "      <td>Bachelors</td>\n",
       "      <td>13</td>\n",
       "      <td>Married-civ-spouse</td>\n",
       "      <td>Exec-managerial</td>\n",
       "      <td>Husband</td>\n",
       "      <td>White</td>\n",
       "      <td>Male</td>\n",
       "      <td>0</td>\n",
       "      <td>0</td>\n",
       "      <td>13</td>\n",
       "      <td>United-States</td>\n",
       "      <td>0</td>\n",
       "    </tr>\n",
       "    <tr>\n",
       "      <th>2</th>\n",
       "      <td>38</td>\n",
       "      <td>Private</td>\n",
       "      <td>215646</td>\n",
       "      <td>HS-grad</td>\n",
       "      <td>9</td>\n",
       "      <td>Divorced</td>\n",
       "      <td>Handlers-cleaners</td>\n",
       "      <td>Not-in-family</td>\n",
       "      <td>White</td>\n",
       "      <td>Male</td>\n",
       "      <td>0</td>\n",
       "      <td>0</td>\n",
       "      <td>40</td>\n",
       "      <td>United-States</td>\n",
       "      <td>0</td>\n",
       "    </tr>\n",
       "    <tr>\n",
       "      <th>3</th>\n",
       "      <td>53</td>\n",
       "      <td>Private</td>\n",
       "      <td>234721</td>\n",
       "      <td>11th</td>\n",
       "      <td>7</td>\n",
       "      <td>Married-civ-spouse</td>\n",
       "      <td>Handlers-cleaners</td>\n",
       "      <td>Husband</td>\n",
       "      <td>Black</td>\n",
       "      <td>Male</td>\n",
       "      <td>0</td>\n",
       "      <td>0</td>\n",
       "      <td>40</td>\n",
       "      <td>United-States</td>\n",
       "      <td>0</td>\n",
       "    </tr>\n",
       "    <tr>\n",
       "      <th>4</th>\n",
       "      <td>28</td>\n",
       "      <td>Private</td>\n",
       "      <td>338409</td>\n",
       "      <td>Bachelors</td>\n",
       "      <td>13</td>\n",
       "      <td>Married-civ-spouse</td>\n",
       "      <td>Prof-specialty</td>\n",
       "      <td>Wife</td>\n",
       "      <td>Black</td>\n",
       "      <td>Female</td>\n",
       "      <td>0</td>\n",
       "      <td>0</td>\n",
       "      <td>40</td>\n",
       "      <td>Cuba</td>\n",
       "      <td>0</td>\n",
       "    </tr>\n",
       "  </tbody>\n",
       "</table>\n",
       "</div>"
      ],
      "text/plain": [
       "   age          workclass  fnlwgt   education  education_num  \\\n",
       "0   39          State-gov   77516   Bachelors             13   \n",
       "1   50   Self-emp-not-inc   83311   Bachelors             13   \n",
       "2   38            Private  215646     HS-grad              9   \n",
       "3   53            Private  234721        11th              7   \n",
       "4   28            Private  338409   Bachelors             13   \n",
       "\n",
       "        marital_status          occupation    relationship    race      sex  \\\n",
       "0        Never-married        Adm-clerical   Not-in-family   White     Male   \n",
       "1   Married-civ-spouse     Exec-managerial         Husband   White     Male   \n",
       "2             Divorced   Handlers-cleaners   Not-in-family   White     Male   \n",
       "3   Married-civ-spouse   Handlers-cleaners         Husband   Black     Male   \n",
       "4   Married-civ-spouse      Prof-specialty            Wife   Black   Female   \n",
       "\n",
       "   capital_gain  capital_loss  hours_per_week  native_country  income_label  \n",
       "0          2174             0              40   United-States             0  \n",
       "1             0             0              13   United-States             0  \n",
       "2             0             0              40   United-States             0  \n",
       "3             0             0              40   United-States             0  \n",
       "4             0             0              40            Cuba             0  "
      ]
     },
     "execution_count": 4,
     "metadata": {},
     "output_type": "execute_result"
    }
   ],
   "source": [
    "!wget https://archive.ics.uci.edu/ml/machine-learning-databases/adult/adult.data\n",
    "names = ['age', 'workclass', 'fnlwgt', 'education', 'education_num', \n",
    "                 'marital_status', 'occupation', 'relationship', 'race', 'sex', \n",
    "                 'capital_gain', 'capital_loss', 'hours_per_week', \n",
    "                 'native_country', 'income']\n",
    "\n",
    "df = pd.read_csv('adult.data', header=None, names=names, na_values=['?', ' ?'])\n",
    "#create a binary target\n",
    "df['income_label'] = (df[\"income\"].apply(lambda x: \">50K\" in x)).astype(int)\n",
    "df.drop('income', axis=1, inplace=True)\n",
    "df.head()"
   ]
  },
  {
   "cell_type": "markdown",
   "metadata": {},
   "source": [
    "### Preprocessing the data\n",
    "\n",
    "For data with high cardinality categoricals, text, image data  . .. or anything that is wide, we applying some preprocessing.  The simplest approach `Wide` is shown below for categoricals.  Here we implement a liner layer as an Embedding layer plus a bias.  When working with text use `DeepText` or with images use `DeepImage`.  There is also `DeepTabular` when you want to build XYZ on tabular datasets.  The examples section includes more detailed notebooks on [preprocessing](https://github.com/jrzaurin/pytorch-widedeep/blob/master/examples/01_Preprocessors_and_utils.ipynb).\n",
    "\n",
    "Here we define the categoricval features that should be treated as wide.  We also perform additional feature engineering by indicating that `education` and `occupation` are crossed columns.  This will manually create interaction features between the two features.  The WidePreprocessor label encodes all the categorical features."
   ]
  },
  {
   "cell_type": "code",
   "execution_count": 5,
   "metadata": {},
   "outputs": [
    {
     "name": "stderr",
     "output_type": "stream",
     "text": [
      "/home/evdo/anaconda3/lib/python3.8/site-packages/ipykernel/ipkernel.py:287: DeprecationWarning: `should_run_async` will not call `transform_cell` automatically in the future. Please pass the result to `transformed_cell` argument and any exception that happen during thetransform in `preprocessing_exc_tuple` in IPython 7.17 and above.\n",
      "  and should_run_async(code)\n"
     ]
    }
   ],
   "source": [
    "wide_cols = ['education', 'relationship','workclass','occupation','native_country','sex']\n",
    "crossed_cols = [('education', 'occupation'), ('native_country', 'occupation')]"
   ]
  },
  {
   "cell_type": "code",
   "execution_count": 6,
   "metadata": {},
   "outputs": [],
   "source": [
    "wide_preprocessor = WidePreprocessor(wide_cols=wide_cols, crossed_cols=crossed_cols)\n",
    "X_wide = wide_preprocessor.fit_transform(df)"
   ]
  },
  {
   "cell_type": "markdown",
   "metadata": {},
   "source": [
    "For `DeepTabular`, we define columns with categorical features that should create embeddings with `cat_embed_cols` and features that are continious numerical with `continuous_cols`.  The resulting dataset gets label-encoded for the categorical columns and normalizes the numerical ones."
   ]
  },
  {
   "cell_type": "code",
   "execution_count": 7,
   "metadata": {},
   "outputs": [],
   "source": [
    "cat_embed_cols = [('education',16), ('relationship',8), ('workclass',16), ('occupation',16),('native_country',16)]\n",
    "continuous_cols = [\"age\",\"hours_per_week\"]\n"
   ]
  },
  {
   "cell_type": "code",
   "execution_count": 8,
   "metadata": {},
   "outputs": [],
   "source": [
    "tab_preprocessor = TabPreprocessor(embed_cols=cat_embed_cols, \n",
    "                                   continuous_cols=continuous_cols)\n",
    "X_tab = tab_preprocessor.fit_transform(df)"
   ]
  },
  {
   "cell_type": "code",
   "execution_count": 9,
   "metadata": {},
   "outputs": [
    {
     "name": "stderr",
     "output_type": "stream",
     "text": [
      "/home/evdo/anaconda3/lib/python3.8/site-packages/ipykernel/ipkernel.py:287: DeprecationWarning: `should_run_async` will not call `transform_cell` automatically in the future. Please pass the result to `transformed_cell` argument and any exception that happen during thetransform in `preprocessing_exc_tuple` in IPython 7.17 and above.\n",
      "  and should_run_async(code)\n"
     ]
    }
   ],
   "source": [
    "# TARGET\n",
    "target_col = 'income_label'\n",
    "target = df[target_col].values"
   ]
  },
  {
   "cell_type": "markdown",
   "metadata": {},
   "source": [
    "### Modeling Setup\n",
    "\n",
    "Modeling requires bringing together the preprocessed components and applying one of the deep tabular models.  There is considerable flexibility in the library for how you are doing this.  There is everything from the very simple `TabMlp` to the well-known `TabNet` to more cutting edge approaches like `Perceiver`, and `FastFormer`.  To see more examples, check out the notebook that focuses on [deeptabular models](https://github.com/jrzaurin/pytorch-widedeep/blob/master/examples/02_2_deeptabular_models.ipynb) or the [transformer models](https://github.com/jrzaurin/pytorch-widedeep/blob/master/examples/10_The_Transformer_Family.ipynb).\n",
    "\n",
    "For this notebook, we start by taking our wide preprocessed dataset and putting it through a very simple MLP that represents the categorical features and concatenates the continuous features.  You can view the model object to see the structure of the model. "
   ]
  },
  {
   "cell_type": "code",
   "execution_count": 12,
   "metadata": {},
   "outputs": [],
   "source": [
    "wide = Wide(input_dim=np.unique(X_wide).shape[0], pred_dim=1)\n",
    "\n",
    "deeptabular = TabMlp(mlp_hidden_dims=[64,32], \n",
    "                      column_idx=tab_preprocessor.column_idx,\n",
    "                      cat_embed_input=tab_preprocessor.cat_embed_input,\n",
    "                      continuous_cols=continuous_cols)\n",
    "model = WideDeep(wide=wide, deeptabular=deeptabular)"
   ]
  },
  {
   "cell_type": "markdown",
   "metadata": {},
   "source": [
    "### Training\n",
    "Once the model is built, we just need to compile it and run it.  The Trainer is where you would look for the typical options for training a model."
   ]
  },
  {
   "cell_type": "code",
   "execution_count": 13,
   "metadata": {},
   "outputs": [],
   "source": [
    "mlp_model = Trainer(model, objective='binary', metrics=[Accuracy, Precision])"
   ]
  },
  {
   "cell_type": "code",
   "execution_count": 14,
   "metadata": {},
   "outputs": [
    {
     "name": "stderr",
     "output_type": "stream",
     "text": [
      "/home/evdo/anaconda3/lib/python3.8/site-packages/sklearn/utils/__init__.py:1102: DeprecationWarning: `np.int` is a deprecated alias for the builtin `int`. To silence this warning, use `int` by itself. Doing this will not modify any behavior and is safe. When replacing `np.int`, you may wish to use e.g. `np.int64` or `np.int32` to specify the precision. If you wish to review your current use, check the release note link for additional information.\n",
      "Deprecated in NumPy 1.20; for more details and guidance: https://numpy.org/devdocs/release/1.20.0-notes.html#deprecations\n",
      "  return floored.astype(np.int)\n",
      "epoch 1: 100%|██████████| 407/407 [00:03<00:00, 117.84it/s, loss=0.438, metrics={'acc': 0.7921, 'prec': 0.5934}]\n",
      "valid: 100%|██████████| 102/102 [00:00<00:00, 153.03it/s, loss=0.378, metrics={'acc': 0.8233, 'prec': 0.6672}]\n",
      "epoch 2: 100%|██████████| 407/407 [00:03<00:00, 118.42it/s, loss=0.384, metrics={'acc': 0.8198, 'prec': 0.6586}]\n",
      "valid: 100%|██████████| 102/102 [00:00<00:00, 163.90it/s, loss=0.364, metrics={'acc': 0.8343, 'prec': 0.6993}]\n",
      "epoch 3: 100%|██████████| 407/407 [00:03<00:00, 122.74it/s, loss=0.373, metrics={'acc': 0.8239, 'prec': 0.6682}]\n",
      "valid: 100%|██████████| 102/102 [00:00<00:00, 163.93it/s, loss=0.357, metrics={'acc': 0.8333, 'prec': 0.6843}]\n",
      "epoch 4: 100%|██████████| 407/407 [00:03<00:00, 118.73it/s, loss=0.363, metrics={'acc': 0.8304, 'prec': 0.6838}]\n",
      "valid: 100%|██████████| 102/102 [00:00<00:00, 176.92it/s, loss=0.352, metrics={'acc': 0.8369, 'prec': 0.6943}]\n",
      "epoch 5: 100%|██████████| 407/407 [00:03<00:00, 135.30it/s, loss=0.357, metrics={'acc': 0.8306, 'prec': 0.6851}]\n",
      "valid: 100%|██████████| 102/102 [00:00<00:00, 173.40it/s, loss=0.35, metrics={'acc': 0.8366, 'prec': 0.6842}]\n"
     ]
    }
   ],
   "source": [
    "mlp_model.fit(X_wide=X_wide, X_tab=X_tab, target=target, \n",
    "              n_epochs=5, batch_size=64, val_split=0.2)"
   ]
  },
  {
   "cell_type": "markdown",
   "metadata": {},
   "source": [
    "Let's try more models.  As you can see, you can run a wide and deep model in just a few lines of code. The simple MLP approach provided a logloss of 0.349.  \n",
    "  \n",
    "Let's now walk through some more advanced approaches starting with the `FT-Transformer` as the `deeptabular` component. This model uses a simple transformer approach for tabular data explained at [https://arxiv.org/abs/2106.11959](https://arxiv.org/abs/2106.11959). It does require slightly different preprocessing and combines a deep approach with a deep tabular approach."
   ]
  },
  {
   "cell_type": "code",
   "execution_count": 15,
   "metadata": {},
   "outputs": [
    {
     "name": "stderr",
     "output_type": "stream",
     "text": [
      "/home/evdo/anaconda3/lib/python3.8/site-packages/ipykernel/ipkernel.py:287: DeprecationWarning: `should_run_async` will not call `transform_cell` automatically in the future. Please pass the result to `transformed_cell` argument and any exception that happen during thetransform in `preprocessing_exc_tuple` in IPython 7.17 and above.\n",
      "  and should_run_async(code)\n"
     ]
    }
   ],
   "source": [
    "\n",
    "cat_embed_cols_for_transformer = [el[0] for el in cat_embed_cols]\n",
    "\n",
    "tab_preprocessor = TabPreprocessor(embed_cols=cat_embed_cols_for_transformer, \n",
    "                                   continuous_cols=continuous_cols, \n",
    "                                   for_transformer=True, \n",
    "                                   with_cls_token = True)\n",
    "\n",
    "X_tab = tab_preprocessor.fit_transform(df)"
   ]
  },
  {
   "cell_type": "code",
   "execution_count": 21,
   "metadata": {},
   "outputs": [
    {
     "name": "stderr",
     "output_type": "stream",
     "text": [
      "/home/evdo/anaconda3/lib/python3.8/site-packages/ipykernel/ipkernel.py:287: DeprecationWarning: `should_run_async` will not call `transform_cell` automatically in the future. Please pass the result to `transformed_cell` argument and any exception that happen during thetransform in `preprocessing_exc_tuple` in IPython 7.17 and above.\n",
      "  and should_run_async(code)\n",
      "/home/evdo/anaconda3/lib/python3.8/site-packages/sklearn/utils/__init__.py:1102: DeprecationWarning: `np.int` is a deprecated alias for the builtin `int`. To silence this warning, use `int` by itself. Doing this will not modify any behavior and is safe. When replacing `np.int`, you may wish to use e.g. `np.int64` or `np.int32` to specify the precision. If you wish to review your current use, check the release note link for additional information.\n",
      "Deprecated in NumPy 1.20; for more details and guidance: https://numpy.org/devdocs/release/1.20.0-notes.html#deprecations\n",
      "  return floored.astype(np.int)\n",
      "epoch 1: 100%|██████████| 51/51 [00:04<00:00, 11.16it/s, loss=0.566, metrics={'acc': 0.7307, 'prec': 0.3973}]\n",
      "valid: 100%|██████████| 13/13 [00:00<00:00, 22.43it/s, loss=0.392, metrics={'acc': 0.8179, 'prec': 0.6243}]\n",
      "epoch 2: 100%|██████████| 51/51 [00:04<00:00, 10.98it/s, loss=0.408, metrics={'acc': 0.8072, 'prec': 0.6205}]\n",
      "valid: 100%|██████████| 13/13 [00:00<00:00, 22.05it/s, loss=0.373, metrics={'acc': 0.8294, 'prec': 0.6862}]\n",
      "epoch 3: 100%|██████████| 51/51 [00:04<00:00, 11.18it/s, loss=0.386, metrics={'acc': 0.8175, 'prec': 0.6481}]\n",
      "valid: 100%|██████████| 13/13 [00:00<00:00, 22.01it/s, loss=0.368, metrics={'acc': 0.8293, 'prec': 0.6583}]\n",
      "epoch 4: 100%|██████████| 51/51 [00:04<00:00, 11.06it/s, loss=0.376, metrics={'acc': 0.8233, 'prec': 0.6639}]\n",
      "valid: 100%|██████████| 13/13 [00:00<00:00, 21.13it/s, loss=0.364, metrics={'acc': 0.8314, 'prec': 0.67}]  \n",
      "epoch 5: 100%|██████████| 51/51 [00:04<00:00, 11.09it/s, loss=0.373, metrics={'acc': 0.8262, 'prec': 0.6693}]\n",
      "valid: 100%|██████████| 13/13 [00:00<00:00, 21.20it/s, loss=0.36, metrics={'acc': 0.8311, 'prec': 0.6736}] \n"
     ]
    }
   ],
   "source": [
    "#wide = Wide(wide_dim=np.unique(X_wide).shape[0], pred_dim=1)\n",
    "wide = Wide(input_dim=np.unique(X_wide).shape[0], pred_dim=1)\n",
    "\n",
    "\n",
    "deeptabular = TabTransformer(column_idx=tab_preprocessor.column_idx,\n",
    "                             cat_embed_input=tab_preprocessor.cat_embed_input,\n",
    "                             continuous_cols=tab_preprocessor.continuous_cols, \n",
    "                             embed_continuous = True)\n",
    "\n",
    "model = WideDeep(wide=wide, deeptabular=deeptabular)\n",
    "tabt_model = Trainer(model, objective='binary', metrics=[Accuracy, Precision])\n",
    "tabt_model.fit(X_wide=X_wide, X_tab=X_tab, target=target, n_epochs=5, batch_size=512, val_split=0.2)"
   ]
  },
  {
   "cell_type": "markdown",
   "metadata": {},
   "source": [
    "Let's now try a few of the cutting edge models, such as `Perceiver` and `TabFastFormer`.  [DeepMind's Perceiver](https://arxiv.org/pdf/2103.03206.pdf) is built for handling multimodel data.  `TabFastFormer` is an adaptation of [Fastformer: Additive Attention Can Be All You Need](https://arxiv.org/pdf/2108.09084.pdf). As you will see, Fastformer gives the lowest loss."
   ]
  },
  {
   "cell_type": "code",
   "execution_count": 20,
   "metadata": {},
   "outputs": [
    {
     "name": "stderr",
     "output_type": "stream",
     "text": [
      "/home/evdo/anaconda3/lib/python3.8/site-packages/ipykernel/ipkernel.py:287: DeprecationWarning: `should_run_async` will not call `transform_cell` automatically in the future. Please pass the result to `transformed_cell` argument and any exception that happen during thetransform in `preprocessing_exc_tuple` in IPython 7.17 and above.\n",
      "  and should_run_async(code)\n",
      "/home/evdo/anaconda3/lib/python3.8/site-packages/sklearn/utils/__init__.py:1102: DeprecationWarning: `np.int` is a deprecated alias for the builtin `int`. To silence this warning, use `int` by itself. Doing this will not modify any behavior and is safe. When replacing `np.int`, you may wish to use e.g. `np.int64` or `np.int32` to specify the precision. If you wish to review your current use, check the release note link for additional information.\n",
      "Deprecated in NumPy 1.20; for more details and guidance: https://numpy.org/devdocs/release/1.20.0-notes.html#deprecations\n",
      "  return floored.astype(np.int)\n",
      "epoch 1: 100%|██████████| 102/102 [00:04<00:00, 21.71it/s, loss=0.461, metrics={'acc': 0.7814}]\n",
      "valid: 100%|██████████| 26/26 [00:00<00:00, 46.26it/s, loss=0.365, metrics={'acc': 0.8293}]\n",
      "epoch 2: 100%|██████████| 102/102 [00:04<00:00, 22.63it/s, loss=0.37, metrics={'acc': 0.8279}]\n",
      "valid: 100%|██████████| 26/26 [00:00<00:00, 46.03it/s, loss=0.35, metrics={'acc': 0.8349}] \n",
      "epoch 3: 100%|██████████| 102/102 [00:04<00:00, 22.72it/s, loss=0.362, metrics={'acc': 0.8328}]\n",
      "valid: 100%|██████████| 26/26 [00:00<00:00, 46.02it/s, loss=0.35, metrics={'acc': 0.8372}] \n",
      "epoch 4: 100%|██████████| 102/102 [00:04<00:00, 22.29it/s, loss=0.36, metrics={'acc': 0.8339}]\n",
      "valid: 100%|██████████| 26/26 [00:00<00:00, 46.78it/s, loss=0.346, metrics={'acc': 0.8377}]\n",
      "epoch 5: 100%|██████████| 102/102 [00:04<00:00, 22.66it/s, loss=0.357, metrics={'acc': 0.8351}]\n",
      "valid: 100%|██████████| 26/26 [00:00<00:00, 46.07it/s, loss=0.345, metrics={'acc': 0.84}]  \n"
     ]
    }
   ],
   "source": [
    "\n",
    "                            # continuous_cols=continuous_cols,\n",
    "\n",
    "tabperceiver = TabPerceiver(\n",
    "    column_idx=tab_preprocessor.column_idx,\n",
    "    cat_embed_input=tab_preprocessor.cat_embed_input,\n",
    "    continuous_cols=tab_preprocessor.continuous_cols, \n",
    "    n_perceiver_blocks=1, \n",
    "    n_latent_blocks=3, \n",
    "    n_latent_heads=2, \n",
    "    n_latents=6,\n",
    "    latent_dim=32,\n",
    ")\n",
    "model = WideDeep(deeptabular=tabperceiver)\n",
    "perc_model = Trainer(model, objective='binary', metrics=[Accuracy])\n",
    "perc_model.fit(X_tab=X_tab, target=target, n_epochs=5, batch_size=256, val_split=0.2)"
   ]
  },
  {
   "cell_type": "code",
   "execution_count": 22,
   "metadata": {},
   "outputs": [
    {
     "name": "stderr",
     "output_type": "stream",
     "text": [
      "/home/evdo/anaconda3/lib/python3.8/site-packages/ipykernel/ipkernel.py:287: DeprecationWarning: `should_run_async` will not call `transform_cell` automatically in the future. Please pass the result to `transformed_cell` argument and any exception that happen during thetransform in `preprocessing_exc_tuple` in IPython 7.17 and above.\n",
      "  and should_run_async(code)\n",
      "/home/evdo/anaconda3/lib/python3.8/site-packages/sklearn/utils/__init__.py:1102: DeprecationWarning: `np.int` is a deprecated alias for the builtin `int`. To silence this warning, use `int` by itself. Doing this will not modify any behavior and is safe. When replacing `np.int`, you may wish to use e.g. `np.int64` or `np.int32` to specify the precision. If you wish to review your current use, check the release note link for additional information.\n",
      "Deprecated in NumPy 1.20; for more details and guidance: https://numpy.org/devdocs/release/1.20.0-notes.html#deprecations\n",
      "  return floored.astype(np.int)\n",
      "epoch 1: 100%|██████████| 102/102 [00:03<00:00, 32.90it/s, loss=0.473, metrics={'acc': 0.7787}]\n",
      "valid: 100%|██████████| 26/26 [00:00<00:00, 59.30it/s, loss=0.367, metrics={'acc': 0.83}]  \n",
      "epoch 2: 100%|██████████| 102/102 [00:02<00:00, 36.10it/s, loss=0.375, metrics={'acc': 0.8225}]\n",
      "valid: 100%|██████████| 26/26 [00:00<00:00, 59.66it/s, loss=0.35, metrics={'acc': 0.8359}] \n",
      "epoch 3: 100%|██████████| 102/102 [00:02<00:00, 37.32it/s, loss=0.364, metrics={'acc': 0.8289}]\n",
      "valid: 100%|██████████| 26/26 [00:00<00:00, 60.34it/s, loss=0.346, metrics={'acc': 0.8385}]\n",
      "epoch 4: 100%|██████████| 102/102 [00:02<00:00, 36.05it/s, loss=0.358, metrics={'acc': 0.8353}]\n",
      "valid: 100%|██████████| 26/26 [00:00<00:00, 63.05it/s, loss=0.344, metrics={'acc': 0.8379}]\n",
      "epoch 5: 100%|██████████| 102/102 [00:02<00:00, 34.53it/s, loss=0.353, metrics={'acc': 0.8352}]\n",
      "valid: 100%|██████████| 26/26 [00:00<00:00, 61.98it/s, loss=0.342, metrics={'acc': 0.8379}]\n"
     ]
    }
   ],
   "source": [
    "tabfastformer = TabFastFormer(column_idx=tab_preprocessor.column_idx,\n",
    "              cat_embed_input=tab_preprocessor.cat_embed_input,\n",
    "              continuous_cols=tab_preprocessor.continuous_cols,  \n",
    "              n_blocks=2, n_heads=4,             \n",
    "            )\n",
    "model = WideDeep(deeptabular=tabfastformer)\n",
    "fasttab_model = Trainer(model, objective='binary', metrics=[Accuracy])\n",
    "fasttab_model.fit(X_tab=X_tab, target=target, n_epochs=5, batch_size=256, val_split=0.2)"
   ]
  },
  {
   "cell_type": "code",
   "execution_count": 29,
   "metadata": {},
   "outputs": [
    {
     "name": "stderr",
     "output_type": "stream",
     "text": [
      "/home/evdo/anaconda3/lib/python3.8/site-packages/ipykernel/ipkernel.py:287: DeprecationWarning: `should_run_async` will not call `transform_cell` automatically in the future. Please pass the result to `transformed_cell` argument and any exception that happen during thetransform in `preprocessing_exc_tuple` in IPython 7.17 and above.\n",
      "  and should_run_async(code)\n",
      "predict: 100%|██████████| 128/128 [00:01<00:00, 93.74it/s]\n"
     ]
    }
   ],
   "source": [
    "# predict on test\n",
    "X_wide_te = wide_preprocessor.transform(df)\n",
    "X_tab_te = tab_preprocessor.transform(df)\n",
    "preds = fasttab_model.predict(X_wide=X_wide_te, X_tab=X_tab_te)"
   ]
  },
  {
   "cell_type": "code",
   "execution_count": 30,
   "metadata": {},
   "outputs": [
    {
     "name": "stderr",
     "output_type": "stream",
     "text": [
      "/home/evdo/anaconda3/lib/python3.8/site-packages/ipykernel/ipkernel.py:287: DeprecationWarning: `should_run_async` will not call `transform_cell` automatically in the future. Please pass the result to `transformed_cell` argument and any exception that happen during thetransform in `preprocessing_exc_tuple` in IPython 7.17 and above.\n",
      "  and should_run_async(code)\n"
     ]
    },
    {
     "data": {
      "text/plain": [
       "0.8398083596941126"
      ]
     },
     "execution_count": 30,
     "metadata": {},
     "output_type": "execute_result"
    }
   ],
   "source": [
    "def compute_accuracy(y_true, y_pred):\n",
    "    correct_predictions = 0\n",
    "    # iterate over each label and check\n",
    "    for true, predicted in zip(y_true, y_pred):\n",
    "        if true == predicted:\n",
    "            correct_predictions += 1\n",
    "    # compute the accuracy\n",
    "    accuracy = correct_predictions/len(y_true)\n",
    "    return accuracy\n",
    "\n",
    "\n",
    "compute_accuracy(df[target_col].values, preds)"
   ]
  },
  {
   "cell_type": "markdown",
   "metadata": {},
   "source": [
    "### Explainability\n",
    "\n",
    "Explainability is very important for understanding how your model is working and getting others to trust your model.  All of these models will work with traditional model agnostic explainablity techniques like permutation based feature importance, partial dependence, and Shap explanations.  Additionally it's possible to extract our the attention weights to better understand what the model is focused on.  You can find this in the companion notebook location XYZ"
   ]
  },
  {
   "cell_type": "code",
   "execution_count": 23,
   "metadata": {},
   "outputs": [
    {
     "name": "stderr",
     "output_type": "stream",
     "text": [
      "/home/evdo/anaconda3/lib/python3.8/site-packages/ipykernel/ipkernel.py:287: DeprecationWarning: `should_run_async` will not call `transform_cell` automatically in the future. Please pass the result to `transformed_cell` argument and any exception that happen during thetransform in `preprocessing_exc_tuple` in IPython 7.17 and above.\n",
      "  and should_run_async(code)\n"
     ]
    },
    {
     "data": {
      "text/plain": [
       "tensor([0.0000, 0.6041, 1.3710, 0.2030, 0.6240, 0.0849, 0.7342, 0.5102])"
      ]
     },
     "execution_count": 23,
     "metadata": {},
     "output_type": "execute_result"
    }
   ],
   "source": [
    "\n",
    "X_tab_t = X_tab_test = torch.from_numpy(X_tab).to(device)\n",
    "feature_perm = FeaturePermutation(model.deeptabular.eval())\n",
    "attr_fic = feature_perm.attribute(X_tab_t,target=0)  ##Run here against training data\n",
    "attr_fic_sum = torch.div(torch.sum((np.absolute(attr_fic.cpu())),0),len(attr_fic))\n",
    "attr_fic_sum"
   ]
  },
  {
   "cell_type": "code",
   "execution_count": 24,
   "metadata": {},
   "outputs": [
    {
     "name": "stdout",
     "output_type": "stream",
     "text": [
      "Feature Importance for Permutation Importance\n",
      "['cls_token', 'education', 'relationship', 'workclass', 'occupation', 'native_country', 'age', 'hours_per_week']\n",
      "cls_token :  0.000\n",
      "education :  0.604\n",
      "relationship :  1.371\n",
      "workclass :  0.203\n",
      "occupation :  0.624\n",
      "native_country :  0.085\n",
      "age :  0.734\n",
      "hours_per_week :  0.510\n"
     ]
    },
    {
     "data": {
      "image/png": "[encoded data removed]",
      "text/plain": [
       "<Figure size 864x432 with 1 Axes>"
      ]
     },
     "metadata": {
      "needs_background": "light"
     },
     "output_type": "display_data"
    }
   ],
   "source": [
    "# Helper method to print importances and visualize feature importance\n",
    "\n",
    "def visualize_importances(feature_names, importances, title=\"Feature Importance for Permutation Importance\", plot=True, axis_title=\"Features\"):\n",
    "    print(title)\n",
    "    print (feature_names)\n",
    "    for i in range(len(feature_names)):\n",
    "        print(feature_names[i], \": \", '%.3f'%(importances[i]))\n",
    "    x_pos = (np.arange(len(feature_names)))\n",
    "    if plot:\n",
    "        plt.figure(figsize=(12,6))\n",
    "        plt.barh(x_pos, importances, align='center')\n",
    "        plt.yticks(x_pos, feature_names, wrap=True)\n",
    "        plt.ylabel(axis_title)\n",
    "        plt.title(title)\n",
    "fnl = list(tab_preprocessor.column_idx.keys())\n",
    "visualize_importances(fnl, attr_fic_sum.numpy())"
   ]
  },
  {
   "cell_type": "code",
   "execution_count": 25,
   "metadata": {},
   "outputs": [
    {
     "data": {
      "text/plain": [
       "768"
      ]
     },
     "execution_count": 25,
     "metadata": {},
     "output_type": "execute_result"
    }
   ],
   "source": [
    "128*6"
   ]
  },
  {
   "cell_type": "markdown",
   "metadata": {},
   "source": [
    "### Predictions and Saving your model"
   ]
  },
  {
   "cell_type": "markdown",
   "metadata": {},
   "source": [
    "Once you have trained the model, you can always run predictions against it for your new data.  Here is a simple command for getting probabilities back from a classification model."
   ]
  },
  {
   "cell_type": "code",
   "execution_count": 27,
   "metadata": {},
   "outputs": [
    {
     "name": "stderr",
     "output_type": "stream",
     "text": [
      "predict: 100%|██████████| 128/128 [00:01<00:00, 103.48it/s]\n"
     ]
    },
    {
     "data": {
      "text/html": [
       "<div>\n",
       "<style scoped>\n",
       "    .dataframe tbody tr th:only-of-type {\n",
       "        vertical-align: middle;\n",
       "    }\n",
       "\n",
       "    .dataframe tbody tr th {\n",
       "        vertical-align: top;\n",
       "    }\n",
       "\n",
       "    .dataframe thead th {\n",
       "        text-align: right;\n",
       "    }\n",
       "</style>\n",
       "<table border=\"1\" class=\"dataframe\">\n",
       "  <thead>\n",
       "    <tr style=\"text-align: right;\">\n",
       "      <th></th>\n",
       "      <th>0</th>\n",
       "      <th>1</th>\n",
       "    </tr>\n",
       "  </thead>\n",
       "  <tbody>\n",
       "    <tr>\n",
       "      <th>0</th>\n",
       "      <td>0.933331</td>\n",
       "      <td>0.066669</td>\n",
       "    </tr>\n",
       "    <tr>\n",
       "      <th>1</th>\n",
       "      <td>0.555891</td>\n",
       "      <td>0.444109</td>\n",
       "    </tr>\n",
       "    <tr>\n",
       "      <th>2</th>\n",
       "      <td>0.976273</td>\n",
       "      <td>0.023727</td>\n",
       "    </tr>\n",
       "    <tr>\n",
       "      <th>3</th>\n",
       "      <td>0.850058</td>\n",
       "      <td>0.149942</td>\n",
       "    </tr>\n",
       "    <tr>\n",
       "      <th>4</th>\n",
       "      <td>0.276371</td>\n",
       "      <td>0.723629</td>\n",
       "    </tr>\n",
       "    <tr>\n",
       "      <th>...</th>\n",
       "      <td>...</td>\n",
       "      <td>...</td>\n",
       "    </tr>\n",
       "    <tr>\n",
       "      <th>32556</th>\n",
       "      <td>0.550695</td>\n",
       "      <td>0.449305</td>\n",
       "    </tr>\n",
       "    <tr>\n",
       "      <th>32557</th>\n",
       "      <td>0.732482</td>\n",
       "      <td>0.267518</td>\n",
       "    </tr>\n",
       "    <tr>\n",
       "      <th>32558</th>\n",
       "      <td>0.972502</td>\n",
       "      <td>0.027498</td>\n",
       "    </tr>\n",
       "    <tr>\n",
       "      <th>32559</th>\n",
       "      <td>0.998126</td>\n",
       "      <td>0.001874</td>\n",
       "    </tr>\n",
       "    <tr>\n",
       "      <th>32560</th>\n",
       "      <td>0.252513</td>\n",
       "      <td>0.747487</td>\n",
       "    </tr>\n",
       "  </tbody>\n",
       "</table>\n",
       "<p>32561 rows × 2 columns</p>\n",
       "</div>"
      ],
      "text/plain": [
       "              0         1\n",
       "0      0.933331  0.066669\n",
       "1      0.555891  0.444109\n",
       "2      0.976273  0.023727\n",
       "3      0.850058  0.149942\n",
       "4      0.276371  0.723629\n",
       "...         ...       ...\n",
       "32556  0.550695  0.449305\n",
       "32557  0.732482  0.267518\n",
       "32558  0.972502  0.027498\n",
       "32559  0.998126  0.001874\n",
       "32560  0.252513  0.747487\n",
       "\n",
       "[32561 rows x 2 columns]"
      ]
     },
     "execution_count": 27,
     "metadata": {},
     "output_type": "execute_result"
    }
   ],
   "source": [
    "results = fasttab_model.predict_proba(X_tab=X_tab)\n",
    "pd.DataFrame(results)"
   ]
  },
  {
   "cell_type": "markdown",
   "metadata": {},
   "source": [
    "Here are some commands for saving preprocessing steps, the model, and training history.  There are example notebooks that cover [saving and loading a model](https://github.com/jrzaurin/pytorch-widedeep/blob/master/examples/08_save_and_load_model_and_artifacts.ipynb)."
   ]
  },
  {
   "cell_type": "code",
   "execution_count": 19,
   "metadata": {},
   "outputs": [],
   "source": [
    "import pickle\n",
    "\n",
    "#save preprocessing\n",
    "with open('tab_preproc.pkl', 'wb') as dp:\n",
    "    pickle.dump(tab_preprocessor, dp)\n",
    "\n",
    "#save the model and training history\n",
    "fasttab_model.save(path =\"\",model_filename=\"model_saved.pt\")"
   ]
  }
 ],
 "metadata": {
  "interpreter": {
   "hash": "a03b9aa3c84f755c4ab71ec9dc21fa9ce0f88d663de0825ed331c1e1e0b364ef"
  },
  "kernelspec": {
   "display_name": "Python 3",
   "language": "python",
   "name": "python3"
  },
  "language_info": {
   "codemirror_mode": {
    "name": "ipython",
    "version": 3
   },
   "file_extension": ".py",
   "mimetype": "text/x-python",
   "name": "python",
   "nbconvert_exporter": "python",
   "pygments_lexer": "ipython3",
   "version": "3.8.5"
  }
 },
 "nbformat": 4,
 "nbformat_minor": 2
}
