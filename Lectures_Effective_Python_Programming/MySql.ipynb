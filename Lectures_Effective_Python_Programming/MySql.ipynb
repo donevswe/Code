{
 "cells": [
  {
   "cell_type": "code",
   "execution_count": 2,
   "metadata": {},
   "outputs": [],
   "source": [
    "import mysql.connector"
   ]
  },
  {
   "cell_type": "code",
   "execution_count": 12,
   "metadata": {
    "scrolled": true
   },
   "outputs": [
    {
     "name": "stdout",
     "output_type": "stream",
     "text": [
      "('cats',)\n"
     ]
    }
   ],
   "source": [
    "import requests\n",
    "import time\n",
    "import csv\n",
    "import ast\n",
    "import sys\n",
    "import mysql.connector\n",
    "\n",
    "config = {\n",
    "'user': 'root',\n",
    "'host': '127.0.0.1',\n",
    "'port': '3306',\n",
    "'database': 'pets',\n",
    "'raise_on_warnings': True,}\n",
    "\n",
    "cnx = mysql.connector.connect(**config)    \n",
    "cursor = cnx.cursor()\n",
    "\n",
    "\n",
    "cursor.execute('SHOW TABLES;')\n",
    "\n",
    "for x in cursor:\n",
    "  print(x) "
   ]
  },
  {
   "cell_type": "code",
   "execution_count": 13,
   "metadata": {},
   "outputs": [],
   "source": [
    "cursor.execute(\"CREATE DATABASE mydatabase\")"
   ]
  },
  {
   "cell_type": "code",
   "execution_count": null,
   "metadata": {},
   "outputs": [],
   "source": []
  }
 ],
 "metadata": {
  "kernelspec": {
   "display_name": "Python 3",
   "language": "python",
   "name": "python3"
  },
  "language_info": {
   "codemirror_mode": {
    "name": "ipython",
    "version": 3
   },
   "file_extension": ".py",
   "mimetype": "text/x-python",
   "name": "python",
   "nbconvert_exporter": "python",
   "pygments_lexer": "ipython3",
   "version": "3.8.5"
  }
 },
 "nbformat": 4,
 "nbformat_minor": 4
}
